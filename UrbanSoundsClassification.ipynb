{
  "cells": [
    {
      "cell_type": "code",
      "execution_count": null,
      "metadata": {
        "id": "rKP52vY2f2p-",
        "colab": {
          "base_uri": "https://localhost:8080/"
        },
        "outputId": "b5ad88fe-1479-4ca1-c6a3-4dafc6360cf6"
      },
      "outputs": [
        {
          "output_type": "stream",
          "name": "stdout",
          "text": [
            "Drive already mounted at /content/drive; to attempt to forcibly remount, call drive.mount(\"/content/drive\", force_remount=True).\n"
          ]
        }
      ],
      "source": [
        "# https://stackoverflow.com/questions/48376580/google-colab-how-to-read-data-from-my-google-drive\n",
        "# https://colab.research.google.com/notebooks/io.ipynb\n",
        "\n",
        "# Load the Drive helper and mount\n",
        "from google.colab import drive\n",
        "\n",
        "# This will prompt for authorization.\n",
        "drive.mount('/content/drive')\n",
        "# drive.mount(\"/content/drive\", force_remount=True)\n",
        "\n",
        "# After executing the cell above, Drive\n",
        "# files will be present in \"/content/drive/My Drive\".\n",
        "# !ls \"/content/drive/My Drive\"\n",
        "\n",
        "# %lsmagic\n",
        "# %pwd\n",
        "# %cd '/content/drive/My Drive/Colab Notebooks/'"
      ]
    },
    {
      "cell_type": "code",
      "execution_count": null,
      "metadata": {
        "id": "Li2LmLnziGxW"
      },
      "outputs": [],
      "source": [
        "import os\n",
        "import sys\n",
        "import glob\n",
        "import shutil\n",
        "\n",
        "import datetime\n",
        "\n",
        "import pandas as pd\n",
        "import numpy as np\n",
        "import matplotlib.pyplot as plt\n",
        "\n",
        "import cv2 as cv\n",
        "import tensorflow as tf\n",
        "from sklearn.model_selection import train_test_split\n",
        "from sklearn.metrics import accuracy_score\n",
        "from keras.models import load_model\n",
        "\n",
        "import pickle\n",
        "from os.path import exists\n",
        "from os import path"
      ]
    },
    {
      "cell_type": "code",
      "execution_count": null,
      "metadata": {
        "id": "lx4H0Dp8nNip",
        "colab": {
          "base_uri": "https://localhost:8080/",
          "height": 52
        },
        "outputId": "22d4ca70-e77c-47ee-af57-6997b72d25ff"
      },
      "outputs": [
        {
          "output_type": "stream",
          "name": "stdout",
          "text": [
            "/content/drive/My Drive/Colab Notebooks\n"
          ]
        },
        {
          "output_type": "execute_result",
          "data": {
            "text/plain": [
              "'/content/drive/My Drive/Colab Notebooks'"
            ],
            "application/vnd.google.colaboratory.intrinsic+json": {
              "type": "string"
            }
          },
          "metadata": {},
          "execution_count": 3
        }
      ],
      "source": [
        "root = \"/content/drive/My Drive/Colab Notebooks/\"\n",
        "# sys.path.append(os.path.abspath(root))\n",
        "sys.path.insert(0, root)\n",
        "%cd {root}\n",
        "%pwd"
      ]
    },
    {
      "cell_type": "code",
      "source": [
        "workingDirectory = root + \"GlobalAiHub\" + os.path.sep\n",
        "inputsDirectory = workingDirectory + \"inputs\" + os.path.sep\n",
        "preProcessedDataDirectory = workingDirectory + \"preProcessedData\" + os.path.sep"
      ],
      "metadata": {
        "id": "4Q7u0UkG-Dxf"
      },
      "execution_count": null,
      "outputs": []
    },
    {
      "cell_type": "code",
      "source": [
        "# =============================================================================\n",
        "class FileUtils:\n",
        "    \"\"\"\n",
        "    def getAllNamesInDirectory(directory, searchPattern = '**/**', writeToScreen = False, writeToDebugFile = False, debugFileName = \"dbg_fileNames_getAllNamesInDirectory.txt\") :    \n",
        "        itemsList = []\n",
        "        for item in glob.iglob(directory + searchPattern, recursive=True):   \n",
        "            itemsList.append(item)\n",
        "            if (writeToScreen):\n",
        "                print(item)\n",
        "        \n",
        "        # for debugging\n",
        "        if (writeToDebugFile):\n",
        "            txt_file_name = debugFileName\n",
        "            with open(txt_file_name, 'w') as fp:\n",
        "                for item in itemsList:\n",
        "                    fp.write(item + \"\\n\")     \n",
        "                    \n",
        "        return itemsList   \n",
        "\n",
        "    def parseNames(itemsList, writeToScreen = False): \n",
        "        fileNameList = []\n",
        "        filePathList = []   \n",
        "        fileFullNameList = [] \n",
        "        for item in itemsList:\n",
        "            str = \"\"\n",
        "            if os.path.isfile(item):\n",
        "                fileName = os.path.basename(item)\n",
        "                filePath = os.path.dirname(item)\n",
        "                fullName = os.path.join(filePath, fileName)\n",
        "                \n",
        "                fileNameList.append(fileName)\n",
        "                filePathList.append(filePath)\n",
        "                fileFullNameList.append(fullName)\n",
        "                \n",
        "                str = f'File : {fileName}, Path : {filePath}, Full Name : {fullName}'  \n",
        "            elif os.path.isdir(item):      \n",
        "                folderName = os.path.basename(item)\n",
        "                folderPath = os.path.dirname(item)     \n",
        "                str = f'Folder : {folderName}, Path : {folderPath}' \n",
        "                \n",
        "            if (writeToScreen):\n",
        "                print(str)\n",
        "                \n",
        "        return fileNameList, filePathList, fileFullNameList    \n",
        "\n",
        "    def filterNames(nameList, pathList, fullNameList, validFileExtension): \n",
        "        i = 0\n",
        "        for item in nameList:\n",
        "            split_tup = os.path.splitext(nameList[i])\n",
        "            fileExtension = split_tup[1]\n",
        "            if (fileExtension != validFileExtension):\n",
        "                del nameList[i]\n",
        "                del pathList[i]\n",
        "                del fullNameList[i]\n",
        "            i += 1;    \n",
        "        return nameList, pathList, fullNameList     \n",
        "    \"\"\"\n",
        "    def writeToFile(self, fileName, nameList, pathList): \n",
        "        fp = open(fileName, 'w')\n",
        "        \n",
        "        i = 0\n",
        "        for item in nameList:\n",
        "            name = nameList[i]\n",
        "            path = pathList[i]\n",
        "            fullName = os.path.join(path, name)\n",
        "            fp.write(name + \"\\t\\t\" + path + \"\\t\\t\" + fullName + \"\\n\")  \n",
        "            i += 1;    \n",
        "            \n",
        "        fp.close()    \n",
        "\n",
        "    def writeToFile_(self, fileName, itemsList): \n",
        "        fp = open(fileName, 'w')\n",
        "        \n",
        "        i = 0\n",
        "        for item in itemsList:\n",
        "            fp.write(item + \"\\n\")  \n",
        "            i += 1;    \n",
        "            \n",
        "        fp.close()\n",
        "\n",
        "    def copyFile(self, source, destination): \n",
        "        shutil.copy(source, destination)\n",
        "            \n",
        " \n",
        "    def getFileNamesInDirectory(self, directory, file_extension): \n",
        "        \n",
        "        fileNameList = list() #[]\n",
        "        filePathList = list() #[]   \n",
        "        fileFullNameList = list() #[] \n",
        "        \n",
        "        files = os.walk(directory)\n",
        "    \n",
        "        i = 0\n",
        "        for r, d, f in files:\n",
        "            files_count = len(f)\n",
        "            for file in f:\n",
        "                if not file.endswith(file_extension):\n",
        "                    continue\n",
        "                \n",
        "                fullName = os.path.join(r, file)\n",
        "                fileName = os.path.basename(fullName)\n",
        "                filePath = os.path.dirname(fullName)\n",
        "\n",
        "                fileNameList.append(fileName) \n",
        "                filePathList.append(filePath)\n",
        "                fileFullNameList.append(fullName)\n",
        "                i += 1\n",
        "                \n",
        "        return fileNameList, filePathList, fileFullNameList \n",
        "        \n",
        "                         "
      ],
      "metadata": {
        "id": "17IbRIVtDV6m"
      },
      "execution_count": null,
      "outputs": []
    },
    {
      "cell_type": "code",
      "source": [
        "# =============================================================================\n",
        "class ImageUtils:\n",
        "\n",
        "    def readImage(self, fileName, readMode = cv.IMREAD_UNCHANGED):  \n",
        "        image = cv.imread(fileName, readMode)  \n",
        "        return image\n",
        "    \n",
        "    def resizeImage(self, image, newHeight, newWidth):  \n",
        "        resizedImage = cv.resize(image, dsize=(newHeight, newWidth))\n",
        "        return resizedImage\n",
        "    \n",
        "    def normalizeImage(self, image):  \n",
        "        normalizedImage = cv.normalize(image, None, 0, 255, cv.NORM_MINMAX)\n",
        "        #normalizedImage = image / 255.0\n",
        "        return normalizedImage\n",
        "    \n",
        "    def printImageStatistics(self, image):  \n",
        "        # get dimensions of image\n",
        "        dimensions = image.shape \n",
        "        \n",
        "        # get number of dimensions of image\n",
        "        ndim = image.ndim         \n",
        "        \n",
        "        # height, width, number of channels in image\n",
        "        height = image.shape[0]\n",
        "        width = image.shape[1]\n",
        "        channels = 1\n",
        "        if (ndim > 2):\n",
        "            channels = image.shape[2]\n",
        "        \n",
        "        print('Image Dimension #  : ',ndim)\n",
        "        print('Image Dimension    : ',dimensions)\n",
        "        print('Image Height       : ',height)\n",
        "        print('Image Width        : ',width)\n",
        "        print('Number of Channels : ',channels)\n",
        "\n",
        "    # =======================================================================\n",
        "    def writeImageToDisk(self, img, fileName):  \n",
        "        cv.imwrite(fileName, img)\n",
        "        \n",
        "    # =======================================================================\n",
        "    def convert1DArray(self, imgData):  \n",
        "        reshaped_img = imgData.reshape(-1)\n",
        "        return reshaped_img        \n"
      ],
      "metadata": {
        "id": "5M2_U0wgDfEU"
      },
      "execution_count": null,
      "outputs": []
    },
    {
      "cell_type": "code",
      "source": [],
      "metadata": {
        "id": "qIZzXB7uDCIR"
      },
      "execution_count": null,
      "outputs": []
    },
    {
      "cell_type": "code",
      "source": [
        "# =============================================================================\n",
        "class CNNModel:\n",
        "    \n",
        "    NUM_CATEGORIES = 10\n",
        "    IMG_HEIGHT     = 100 \n",
        "    IMG_WIDTH      = 100 \n",
        "    IMG_DEPTH      = 1\n",
        "\n",
        "    x = None \n",
        "    y = None \n",
        "        \n",
        "    x_train = None \n",
        "    y_train = None \n",
        "    x_test = None \n",
        "    y_test = None \n",
        "    x_val = None \n",
        "    y_val = None   \n",
        "    \n",
        "    train_size = 0.0\n",
        "    test_size = 0.0\n",
        "    val_size = 0.0   \n",
        "    \n",
        "    m = None\n",
        "    history = None\n",
        "    evaluationResults = None\n",
        "    predictionResult = None\n",
        "    predictedClass = None\n",
        "    predictionProbability = None\n",
        "\n",
        "    def splitData(self, imageList, labelList, testSize = 0.2, valSize = 0.2):          \n",
        "        x = np.array(imageList)\n",
        "        y = np.array(labelList)  \n",
        "        \n",
        "        train_size = 1.0 - testSize\n",
        "        test_size = testSize  \n",
        "        val_size = valSize\n",
        "        \n",
        "        # Split the dataset into train and test sets with 80-20 ratio\n",
        "        x_train, x_test, y_train, y_test = train_test_split(x, y, test_size = test_size, random_state = 1)\n",
        "          \n",
        "        # Split the dataset into train and val sets with aaa-bbb ratio\n",
        "        x_train, x_val, y_train, y_val = train_test_split(x_train, y_train, test_size = (val_size / train_size), random_state = 1)\n",
        "         \n",
        "        self.x = x \n",
        "        self.y = y \n",
        "        \n",
        "        self.x_train = x_train \n",
        "        self.y_train = y_train \n",
        "        self.x_test = x_test \n",
        "        self.y_test = y_test \n",
        "        self.x_val = x_val \n",
        "        self.y_val = y_val  \n",
        "        \n",
        "        self.train_size = train_size \n",
        "        self.test_size = test_size \n",
        "        self.val_size = val_size \n",
        "   \n",
        "        return x_train, y_train, x_test, y_test, x_val, y_val\n",
        "    \n",
        "    \n",
        "    def showSplittedDataMetrics(self):\n",
        "        print(f'Length of the dataset : {len(self.x)}')\n",
        "        print(f'Length of the training dataset : {len(self.x_train)}')\n",
        "        print(f'Length of the validation dataset : {len(self.x_val)}')\n",
        "        print(f'Length of the test dataset : {len(self.x_test)}') \n",
        "\n",
        "        \n",
        "    def buildModel(self, choice = 0):\n",
        "        \"\"\"\n",
        "        Returns a compiled convolutional neural network model. Assume that the\n",
        "        `input_shape` of the first layer is `(IMG_WIDTH, IMG_HEIGHT, 1)`.\n",
        "        The output layer should have `NUM_CATEGORIES` units, one for each category.\n",
        "        \"\"\"\n",
        "        # Arguments for tf.keras.layers.Input\n",
        "        shape      = (self.IMG_HEIGHT, self.IMG_WIDTH, self.IMG_DEPTH)\n",
        "        batch_size = None\n",
        "        name       = None\n",
        "        dtype      = None\n",
        "        sparse     = False\n",
        "        tensor     = None \n",
        "\n",
        "        if (choice == 0):\n",
        "\n",
        "          pool_size = (2, 2) \n",
        "          kernel_size = (3, 3)\n",
        "          strides = (1,1)\n",
        "\n",
        "          number_of_nodes_input_layer = 512\n",
        "          number_of_nodes_output_layer = self.NUM_CATEGORIES \n",
        "          number_of_nodes_hidden_layer = [512, 256, 128, 64, 32 ]                       \n",
        "          number_of_nodes_hidden_layer_ = [512, \n",
        "                        256, 256, \n",
        "                        128, 128, 128, 128, \n",
        "                        64, 64, 64, 64, 64, 64, 64, 64, \n",
        "                        32, 32, 32, 32, 32, 32, 32, 32, 32, 32, 32, 32, 32, 32, 32, 32 ]          \n",
        "          number_of_nodes_additional_dense_layer = [32, 32]                          \n",
        "\n",
        "          # Create a model object\n",
        "          model = tf.keras.Sequential()  \n",
        "          \n",
        "          # Create an input layer        \n",
        "          input_layer = tf.keras.layers.Dense(number_of_nodes_input_layer, input_shape=shape, activation = 'relu')   # columns_number = 34 # x.head()   input_shape=(columns_number,)\n",
        "\n",
        "          # Add input layer to model object\n",
        "          model.add(input_layer)\n",
        "          \n",
        "          # Add a convolution and max pooling layer\n",
        "          for num in number_of_nodes_hidden_layer:\n",
        "              model.add(tf.keras.layers.Conv2D(num, kernel_size, strides, padding=\"same\"))\n",
        "              model.add(tf.keras.layers.Activation(tf.keras.activations.relu))\n",
        "              # model.add(tf.keras.layers.MaxPooling2D(pool_size=pool_size))\n",
        "              model.add(tf.keras.layers.Dropout(0.2))\n",
        "\n",
        "          # Global maxing the convolution layer\n",
        "          model.add(tf.keras.layers.GlobalMaxPooling2D())  \n",
        "                  \n",
        "          # Flatten the convolution layer\n",
        "          model.add(tf.keras.layers.Flatten())\n",
        "\n",
        "          # Add the dense layer and dropout layer\n",
        "          model.add(tf.keras.layers.Dense(number_of_nodes_additional_dense_layer[0], activation = 'relu'))\n",
        "          model.add(tf.keras.layers.Dropout(0.5))\n",
        "          \n",
        "          # Add the dense layer and dropout layer\n",
        "          model.add(tf.keras.layers.Dense(number_of_nodes_additional_dense_layer[1], activation = 'relu'))\n",
        "          model.add(tf.keras.layers.Dropout(0.5))\n",
        "\n",
        "          # Add the output layer\n",
        "          output_layer = tf.keras.layers.Dense(number_of_nodes_output_layer, activation = 'softmax')\n",
        "\n",
        "          # Add output layer to model object\n",
        "          model.add(output_layer)                          \n",
        "\n",
        "        elif (choice == 1):\n",
        "\n",
        "          # Copied from AI9032 Build an artificial neural network\n",
        "\n",
        "          number_of_nodes_input_layer = 2048                       # Onceki 4096 di \n",
        "          number_of_nodes_output_layer = self.NUM_CATEGORIES          \n",
        "          number_of_nodes_hidden_layer = [2048, 2048, 2048, 2048 ]    # Onceki 4096 di \n",
        "\n",
        "          # Create a model object\n",
        "          model = tf.keras.Sequential()\n",
        "\n",
        "          # Create an input layer\n",
        "          input_layer = tf.keras.layers.Dense(number_of_nodes_input_layer, input_shape=shape, activation = 'relu')\n",
        "\n",
        "          # Add input layer to model object\n",
        "          model.add(input_layer)\n",
        "\n",
        "          # Add the first hidden layer with 4096 nodes and relu activation function\n",
        "          model.add(tf.keras.layers.Dense(number_of_nodes_hidden_layer[0], activation = 'relu'))\n",
        "          # Add 0.5 dropout\n",
        "          model.add(tf.keras.layers.Dropout(0.5))\n",
        "\n",
        "          # Add the second hidden layer with 4096 nodes and relu activation function\n",
        "          model.add(tf.keras.layers.Dense(number_of_nodes_hidden_layer[1], activation = 'relu'))\n",
        "          # Add 0.5 dropout\n",
        "          model.add(tf.keras.layers.Dropout(0.5))\n",
        "\n",
        "          # Add the third hidden layer with 4096 nodes and relu activation function\n",
        "          model.add(tf.keras.layers.Dense(number_of_nodes_hidden_layer[2], activation = 'relu'))\n",
        "          # Add 0.5 dropout\n",
        "          model.add(tf.keras.layers.Dropout(0.5))\n",
        "\n",
        "          # Add the fourth hidden layer with 4096 nodes and relu activation function\n",
        "          model.add(tf.keras.layers.Dense(number_of_nodes_hidden_layer[3], activation = 'relu'))\n",
        "          # Add 0.5 dropout\n",
        "          model.add(tf.keras.layers.Dropout(0.5))        \n",
        "\n",
        "          # Add the output layer\n",
        "          #print(data['Class'].unique())\n",
        "          model.add(tf.keras.layers.Dense(number_of_nodes_output_layer, activation = 'softmax'))\n",
        "      \n",
        "                         \n",
        "\n",
        "        elif (choice == 2):\n",
        "\n",
        "          # Copied from AI9051 Build a convolutional neural network\n",
        "          \n",
        "          number_of_nodes_input_layer = 32\n",
        "          number_of_nodes_output_layer = self.NUM_CATEGORIES          \n",
        "          number_of_nodes_hidden_layer = [64, 64]          \n",
        "          number_of_nodes_additional_dense_layer = [64, 64]    \n",
        "\n",
        "          # Create a model object\n",
        "          model = tf.keras.Sequential()   \n",
        "\n",
        "          # Add a convolution and max pooling layer\n",
        "          model.add(tf.keras.layers.Conv2D(number_of_nodes_input_layer, kernel_size = (3,3), strides = (1,1), padding = \"same\", activation = 'relu', input_shape=shape ))\n",
        "          model.add(tf.keras.layers.MaxPooling2D((2,2)))\n",
        "\n",
        "          # Add more convolution and max pooling layers\n",
        "          model.add(tf.keras.layers.Conv2D(number_of_nodes_hidden_layer[0], kernel_size = (3,3), strides = (1,1), padding = \"same\", activation = 'relu'))\n",
        "          model.add(tf.keras.layers.MaxPooling2D((2,2)))\n",
        "\n",
        "          model.add(tf.keras.layers.Conv2D(number_of_nodes_hidden_layer[1], kernel_size = (3,3), strides = (1,1), padding = \"same\", activation = 'relu'))\n",
        "          model.add(tf.keras.layers.MaxPooling2D((2,2)))\n",
        "\n",
        "          # Flatten the convolution layer\n",
        "          model.add(tf.keras.layers.Flatten())\n",
        "\n",
        "          # Add the dense layer and dropout layer\n",
        "          model.add(tf.keras.layers.Dense(number_of_nodes_additional_dense_layer[0], activation = 'relu'))\n",
        "          model.add(tf.keras.layers.Dropout(0.5))\n",
        "\n",
        "          # Add the dense layer and dropout layer\n",
        "          model.add(tf.keras.layers.Dense(number_of_nodes_additional_dense_layer[1], activation = 'relu'))\n",
        "          model.add(tf.keras.layers.Dropout(0.5))\n",
        "\n",
        "          # Add the output layer\n",
        "          model.add(tf.keras.layers.Dense(number_of_nodes_output_layer, activation = 'softmax'))\n",
        "      \n",
        "                         \n",
        "\n",
        "        elif (choice == 3):\n",
        "\n",
        "          # Copied from xxxx Github\n",
        "          \n",
        "          number_of_nodes_input_layer = 256\n",
        "          number_of_nodes_output_layer = self.NUM_CATEGORIES          \n",
        "          number_of_nodes_hidden_layer = [256, 256, 512]          \n",
        "          number_of_nodes_additional_dense_layer = [67]    \n",
        "\n",
        "          # Create a model object\n",
        "          model = tf.keras.Sequential()   \n",
        "          \n",
        "          model.add(tf.keras.layers.Input(shape=shape))\n",
        "          model.add(tf.keras.layers.Conv2D(number_of_nodes_input_layer, (3, 3)))\n",
        "          model.add(tf.keras.layers.Activation(tf.keras.activations.relu))\n",
        "          model.add(tf.keras.layers.Dropout(0.4))\n",
        "\n",
        "          model.add(tf.keras.layers.Conv2D(number_of_nodes_hidden_layer[0], (3, 3)))\n",
        "          model.add(tf.keras.layers.Activation(tf.keras.activations.relu))\n",
        "          model.add(tf.keras.layers.Dropout(0.4))\n",
        "\n",
        "          model.add(tf.keras.layers.Conv2D(number_of_nodes_hidden_layer[1], (3, 3)))\n",
        "          model.add(tf.keras.layers.Activation(tf.keras.activations.relu))\n",
        "          model.add(tf.keras.layers.Dropout(0.4))\n",
        "\n",
        "          model.add(tf.keras.layers.Conv2D(number_of_nodes_hidden_layer[2], (3, 3)))\n",
        "          model.add(tf.keras.layers.Activation(tf.keras.activations.relu))\n",
        "          model.add(tf.keras.layers.Dropout(0.2))\n",
        "\n",
        "          # Flatten the convolution layer\n",
        "          model.add(tf.keras.layers.Flatten())\n",
        "          \n",
        "          # Add the dense layer and dropout layer\n",
        "          model.add(tf.keras.layers.Dense(number_of_nodes_additional_dense_layer[0]))\n",
        "          model.add(tf.keras.layers.Activation(tf.keras.activations.relu))\n",
        "\n",
        "          # Add the output layer\n",
        "          model.add(tf.keras.layers.Dense(number_of_nodes_output_layer))\n",
        "          model.add(tf.keras.layers.Activation(tf.keras.activations.softmax))\n",
        "\n",
        "\n",
        "\n",
        "        \"\"\"\n",
        "        # model    \n",
        "        model = tf.keras.models.Sequential()\n",
        "    \n",
        "        # inputs layer\n",
        "        model.add(tf.keras.layers.Input(shape=shape))\n",
        "        #input_layer = tf.keras.layers.Dense(4096, input_shape=shape, activation = 'relu')          \n",
        "\n",
        "        # add inputs layer        \n",
        "        #model.add(input_layer)\n",
        "\n",
        "        # hidden layers    \n",
        "        for num in num_filters:\n",
        "            model.add(tf.keras.layers.Conv2D(num, kernel_size, padding=\"same\"))\n",
        "            model.add(tf.keras.layers.Activation(tf.keras.activations.relu))\n",
        "            # # model.add(tf.keras.layers.MaxPooling2D(pool_size=pool_size))\n",
        "            # model.add(tf.keras.layers.BatchNormalization())\n",
        "            model.add(tf.keras.layers.Dropout(0.2))\n",
        "        \n",
        "        # bilmiyorum\n",
        "        # model.add(tf.keras.layers.Flatten())\n",
        "        model.add(tf.keras.layers.GlobalMaxPooling2D())  \n",
        "        # model.add(tf.keras.layers.Dense(64))\n",
        "        # model.add(tf.keras.layers.Activation(tf.keras.activations.relu))\n",
        "        \n",
        "        # outputs    \n",
        "        model.add(tf.keras.layers.Dense(self.NUM_CATEGORIES))\n",
        "        model.add(tf.keras.layers.Activation(tf.keras.activations.softmax))\n",
        "        \"\"\"\n",
        "\n",
        "\n",
        "\n",
        "        self.m = model\n",
        "    \n",
        "        return model\n",
        "        \n",
        "    def compileModel(self):         \n",
        "        choice = 0\n",
        "        if (choice == 0):\n",
        "            optimizer=\"Adam\"\n",
        "            loss=\"mse\"\n",
        "            metrics=[\"acc\"]\n",
        "        elif (choice == 1):\n",
        "            optimizer = keras.optimizers.RMSprop()\n",
        "            loss = keras.losses.SparseCategoricalCrossentropy()\n",
        "            metrics = [keras.metrics.SparseCategoricalAccuracy()]\n",
        "        else:\n",
        "            optimizer=\"Adam\"\n",
        "            loss=\"mse\"\n",
        "            metrics=[\"acc\"]\n",
        "        \n",
        "        self.m.compile(loss=loss, optimizer=optimizer, metrics=metrics)\n",
        "    \n",
        "        return self.m\n",
        "    \n",
        "    def showModelSummary(self):         \n",
        "        print(self.m.summary()) \n",
        "    \n",
        "    def setUpCallbacks(self):\n",
        "        print(\"\")\n",
        "        \n",
        "    def expandDimension(self):\n",
        "        self.x_train = tf.expand_dims(self.x_train, axis=-1)    \n",
        "        \n",
        "    def execute(self, epochs = 10, batchSize = 32):\n",
        "\n",
        "        # Define callbacks\n",
        "        my_callbacks = [\n",
        "          tf.keras.callbacks.EarlyStopping(patience=2),\n",
        "          tf.keras.callbacks.ModelCheckpoint(filepath='model.{epoch:02d}-{val_acc:.2f}.h5'), # val_accuracy ->val_acc\n",
        "          tf.keras.callbacks.TensorBoard(log_dir='./logs'),\n",
        "        ]\n",
        "        \n",
        "        log_dir = \"logs/fit/\" + datetime.datetime.now().strftime(\"%Y%m%d-%H%M%S\")\n",
        "        tensorboard_callback = tf.keras.callbacks.TensorBoard(log_dir=log_dir, histogram_freq=1)\n",
        "        \n",
        "        # Fit model on training data\n",
        "        print(\"Fit model on training data\")\n",
        "        history = self.m.fit(self.x_train,\n",
        "                            self.y_train,\n",
        "                            epochs = epochs,\n",
        "                            batch_size = batchSize,\n",
        "                            validation_data = (self.x_val, self.y_val),               \n",
        "                            callbacks=[tensorboard_callback]\n",
        "                            )   \n",
        "        \n",
        "        self.history = history\n",
        "        \n",
        "        return history\n",
        "    \n",
        "    def showHistory(self):\n",
        "        print(self.history.history)\n",
        "        print(self.history.history.keys())\n",
        "    \n",
        "    def plotHistory(self, choice = 0):\n",
        "        if (choice == 0):\n",
        "            # Plot the the training loss\n",
        "            plt.plot(self.history.history[\"loss\"], label = 'loss')\n",
        "            \n",
        "            # Plot the the validation val_loss\n",
        "            plt.plot(self.history.history[\"val_loss\"], label = 'val_loss')\n",
        "            \n",
        "            # Name the x and y axises\n",
        "            plt.xlabel('Epoch')\n",
        "            plt.ylabel('Loss')\n",
        "            \n",
        "            # Put legend table\n",
        "            plt.legend()\n",
        "            \n",
        "            # Show the plot\n",
        "            plt.show()\n",
        "            \n",
        "            \n",
        "            # Plot the the training accuracy\n",
        "            plt.plot(self.history.history[\"acc\"], label = 'accuracy')\n",
        "            \n",
        "            # Plot the the validation accuracy\n",
        "            plt.plot(self.history.history[\"val_acc\"], label = 'val_accuracy')\n",
        "            \n",
        "            # Name the x and y axises\n",
        "            plt.xlabel('Epoch')\n",
        "            plt.ylabel('Accuracy')\n",
        "            \n",
        "            # Put legend table\n",
        "            plt.legend()\n",
        "            \n",
        "            # Show the plot\n",
        "            plt.show()\n",
        "        else:            \n",
        "            plt.figure()\n",
        "            plt.xlabel('Epochs')\n",
        "            plt.ylabel('Loss')\n",
        "            plt.plot(self.history.history['loss'])\n",
        "            plt.plot(self.history.history['val_loss'])\n",
        "            plt.legend(['Training', 'Validation'])\n",
        "        \n",
        "            plt.figure()\n",
        "            plt.xlabel('Epochs')\n",
        "            plt.ylabel('Accuracy')\n",
        "            plt.plot(self.history.history['acc'])\n",
        "            plt.plot(self.history.history['val_acc'])\n",
        "            plt.legend(['Training', 'Validation'], loc='lower right')\n",
        "            plt.show()\n",
        "\n",
        "\n",
        "    def evaluate(self, batchSize = 32):\n",
        "        print(\"Evaluate on test data\")      \n",
        "        results = self.m.evaluate(self.x_test, self.y_test, batch_size = batchSize) \n",
        "        self.evaluationResults = results\n",
        "        return results\n",
        "        \n",
        "    def getLossValue(self):     \n",
        "        return self.evaluationResults[0]\n",
        "    \n",
        "    def getAccuracyValue(self):     \n",
        "        return self.evaluationResults[1]\n",
        "    \n",
        "    def printEvaluationResults(self):     \n",
        "        print('loss:', self.evaluationResults[0])\n",
        "        print('Accuracy:', self.evaluationResults[1])\n",
        "\n",
        "    def predict(self, x_test):\n",
        "\n",
        "        predictions = self.m.predict(x_test)\n",
        "        \n",
        "        self.predictionResult = predictions\n",
        "        self.predictedClass = predictions.argmax()\n",
        "        self.predictionProbability = predictions.max()\n",
        "        \n",
        "        return predictions\n",
        "    \n",
        "    def printPredictionResults(self):           \n",
        "        print('Predicted Class:', self.predictedClass)\n",
        "        print('Prediction Probability:', self.predictionProbability)\n",
        "        print('predictionResult:', self.predictionResult)\n",
        "        print(\"predictions shape:\", self.predictionResult.shape) \n"
      ],
      "metadata": {
        "id": "CpKo-sbQDjvs"
      },
      "execution_count": null,
      "outputs": []
    },
    {
      "cell_type": "code",
      "source": [
        "# =============================================================================        \n",
        "def saveModelToFile(model, fileName = \"cnn_model.h5\"):\n",
        "    model.saveModelToFile(filename)\n",
        "    print(f\"Model saved to {fileName}.\")\n",
        "   \n",
        "def loadModelFromFile(fileName = \"cnn_model.h5\"):\n",
        "    model = load_model(filename)\n",
        "    print(f\"Model loaded from {filename}.\")\n",
        "    return model\n",
        "    \n",
        "def deleteModel(model):\n",
        "    del model  # deletes the existing model\n",
        "    print(f\"Model deleted \") "
      ],
      "metadata": {
        "id": "k4L-N7JPcOaG"
      },
      "execution_count": null,
      "outputs": []
    },
    {
      "cell_type": "code",
      "source": [
        "def generateNormalizedImages(fileNameList, fileFullNameList, preProcessedDataDirectory, writeImagesToDisk = True, showProgressOnScreen = True, updateFreq = -1):\n",
        "    i = 0\n",
        "    filesCount = len(fileNameList)\n",
        "    for item in fileNameList:\n",
        "        \n",
        "        fileName = fileNameList[i]\n",
        "        \n",
        "        fileFullName = fileFullNameList[i]\n",
        "        \n",
        "        image = imageUtils.readImage(fileFullName, cv.IMREAD_GRAYSCALE)\n",
        "        \n",
        "        resizedImage = imageUtils.resizeImage(image, IMG_HEIGHT, IMG_WIDTH)\n",
        "        \n",
        "        normalizedImage = imageUtils.normalizeImage(resizedImage)\n",
        "        \n",
        "        images.append(image)\n",
        "        \n",
        "        resizedImages.append(resizedImage)\n",
        "        \n",
        "        normalizedImages.append(normalizedImage)\n",
        "        \n",
        "        destFileName = preProcessedDataDirectory + os.path.sep + fileName\n",
        "\n",
        "        if (writeImagesToDisk):\n",
        "          imageUtils.writeImageToDisk(normalizedImage, destFileName)\n",
        "    \n",
        "        if (showProgressOnScreen):\n",
        "          if (updateFreq == -1):\n",
        "            print(f\"{i} / {filesCount} \\t {fileName} \\t is proceesed and written to dest as \\t {destFileName} \")\n",
        "          else:\n",
        "              if ( i != 0 and i % updateFreq == 0 ):\n",
        "                print(f\"{i} / {filesCount} \\t {fileName} \\t is proceesed and written to dest as \\t {destFileName} \")\n",
        "    \n",
        "        i += 1\n",
        "        \n",
        "        if ( QUICK_MODE_ENABLED == 1 and i != 0 and i % LIMITER_COUNT == 0 ):\n",
        "            break  \n",
        "        \n",
        "    return images, resizedImages, normalizedImages\n",
        "\n",
        "def getNormalizedImagesFromDisk(fileNameList, fileFullNameList, preProcessedDataDirectory, showProgressOnScreen = True, updateFreq = -1):\n",
        "    i = 0\n",
        "    filesCount = len(fileNameList)\n",
        "    for item in fileNameList:\n",
        "        \n",
        "        fileName = fileNameList[i]\n",
        "        \n",
        "        fileFullName = fileFullNameList[i]\n",
        "        \n",
        "        normalizedImage = imageUtils.readImage(fileFullName, cv.IMREAD_GRAYSCALE)\n",
        "        \n",
        "        normalizedImages.append(normalizedImage)\n",
        "        \n",
        "        destFileName = preProcessedDataDirectory + os.path.sep + fileName \n",
        "        \n",
        "        if (showProgressOnScreen):\n",
        "          if (updateFreq == -1):\n",
        "            print(f\"{i} / {filesCount} \\t {fileName} \\t is read from \\t {destFileName} \")\n",
        "          else:\n",
        "            if ( i != 0 and i % updateFreq == 0 ):\n",
        "              print(f\"{i} / {filesCount} \\t {fileName} \\t is read from \\t {destFileName} \")\n",
        "\n",
        "        i += 1\n",
        "        \n",
        "        if ( QUICK_MODE_ENABLED == 1 and i != 0 and i % LIMITER_COUNT == 0 ):\n",
        "            break  \n",
        "        \n",
        "    return normalizedImages"
      ],
      "metadata": {
        "id": "aItySCV_gc4J"
      },
      "execution_count": null,
      "outputs": []
    },
    {
      "cell_type": "code",
      "source": [
        "def saveListToBinaryFile(list, fileName):\n",
        "    with open (fileName, 'wb') as fp:\n",
        "        pickle.dump(list, fp)    \n",
        "    \n",
        "def saveListToTextFile(list, fileName): \n",
        "    with open (fileName, 'w') as fp:\n",
        "        pickle.dump(list, fp)        \n",
        "    \n",
        "def loadListFromBinaryFile(fileName): \n",
        "    with open (fileName, 'rb') as fp:\n",
        "        result = pickle.load(fp)\n",
        "    return result \n",
        "        \n",
        "def loadListFromTextFile(fileName):\n",
        "    with open (fileName, 'r') as fp:\n",
        "        result = pickle.load(fp)\n",
        "    return result    "
      ],
      "metadata": {
        "id": "_Ah7jjUPkoCC"
      },
      "execution_count": null,
      "outputs": []
    },
    {
      "cell_type": "code",
      "source": [
        "fileUtils  = FileUtils()\n",
        "\n",
        "imageUtils = ImageUtils()\n",
        "\n",
        "model      = CNNModel()\n",
        "\n",
        "NUM_CATEGORIES = 10\n",
        "IMG_HEIGHT     = 100 \n",
        "IMG_WIDTH      = 100 \n",
        "IMG_DEPTH      = 1 \n",
        "\n",
        "LIMITER_COUNT = 100                             # is valid if QUICK_MODE_ENABLED = 1\n",
        "QUICK_MODE_ENABLED = 1                          # Default Value 0\n",
        "USE_PRE_GENERATED_NORMALIZED_IMAGES = 0         # Default Value 0\n",
        "WRITE_NORMALIZED_IMAGES_TO_DISK = 0             # Default Value 1\n",
        "DEVIDE_PIXEL_VALUES_TO_255 = 1                  # Default Value 1 \n",
        "SELECTED_TOPOLOGY_INDEX = 0                     # Default Value 0 (1 and 3 fails)"
      ],
      "metadata": {
        "id": "FP875tsWDtC_"
      },
      "execution_count": null,
      "outputs": []
    },
    {
      "cell_type": "code",
      "execution_count": null,
      "metadata": {
        "id": "ymS21qaoiscp",
        "colab": {
          "base_uri": "https://localhost:8080/"
        },
        "outputId": "a5ce24e1-74f7-4b37-c3cf-5b9971a66bbc"
      },
      "outputs": [
        {
          "output_type": "stream",
          "name": "stdout",
          "text": [
            "..... : Files Count :  8732\n"
          ]
        }
      ],
      "source": [
        "searchDirectory = inputsDirectory + \"spectrograms/\"\n",
        "fileExtension = \".png\"\n",
        "\n",
        "fileNameList, filePathList, fileFullNameList = fileUtils.getFileNamesInDirectory(searchDirectory, fileExtension)\n",
        "\n",
        "print(\"..... : Files Count : \", len(fileNameList))"
      ]
    },
    {
      "cell_type": "code",
      "source": [
        "fileNameList[0]"
      ],
      "metadata": {
        "colab": {
          "base_uri": "https://localhost:8080/",
          "height": 35
        },
        "id": "_WzSbbYyBMRt",
        "outputId": "d903ea22-4eb1-48fa-f1d6-35708d3dbf55"
      },
      "execution_count": null,
      "outputs": [
        {
          "output_type": "execute_result",
          "data": {
            "text/plain": [
              "'102305-6-0-0.png'"
            ],
            "application/vnd.google.colaboratory.intrinsic+json": {
              "type": "string"
            }
          },
          "metadata": {},
          "execution_count": 13
        }
      ]
    },
    {
      "cell_type": "code",
      "source": [
        "filePathList[0]"
      ],
      "metadata": {
        "colab": {
          "base_uri": "https://localhost:8080/",
          "height": 35
        },
        "id": "2KndsxFrB0OO",
        "outputId": "b40fd8f4-269f-4dbd-fa8b-cba2b6116c1a"
      },
      "execution_count": null,
      "outputs": [
        {
          "output_type": "execute_result",
          "data": {
            "text/plain": [
              "'/content/drive/My Drive/Colab Notebooks/GlobalAiHub/inputs/spectrograms/6'"
            ],
            "application/vnd.google.colaboratory.intrinsic+json": {
              "type": "string"
            }
          },
          "metadata": {},
          "execution_count": 14
        }
      ]
    },
    {
      "cell_type": "code",
      "source": [
        "fileFullNameList[0]"
      ],
      "metadata": {
        "colab": {
          "base_uri": "https://localhost:8080/",
          "height": 35
        },
        "id": "1rQ5YuGvBukj",
        "outputId": "ae1ab03b-5b71-40f2-8123-0e6408f280c6"
      },
      "execution_count": null,
      "outputs": [
        {
          "output_type": "execute_result",
          "data": {
            "text/plain": [
              "'/content/drive/My Drive/Colab Notebooks/GlobalAiHub/inputs/spectrograms/6/102305-6-0-0.png'"
            ],
            "application/vnd.google.colaboratory.intrinsic+json": {
              "type": "string"
            }
          },
          "metadata": {},
          "execution_count": 15
        }
      ]
    },
    {
      "cell_type": "code",
      "source": [
        "fileUtils.writeToFile(\"fileNameList.txt\", fileNameList, filePathList)\n",
        "# print(\"\")\n",
        "# print(\"\")\n",
        "# print(\"..... : Dosya isimleri dosyaya yazildi\", len(fileNameList))"
      ],
      "metadata": {
        "id": "WHAho78TDkHj"
      },
      "execution_count": null,
      "outputs": []
    },
    {
      "cell_type": "code",
      "source": [
        "images = list()\n",
        "resizedImages = list()\n",
        "normalizedImages = list()\n",
        "\n",
        "writeImagesToDisk = WRITE_NORMALIZED_IMAGES_TO_DISK                             # writes normalized image to disk\n",
        "showProgressOnScreen = True                                                     # shows the progress on the screen\n",
        "updateFreq = 100                                                                # is used to reduce the update freq, use -1 in order to print every step\n",
        "\n",
        "# path.exists('myDirectory')\n",
        "if (USE_PRE_GENERATED_NORMALIZED_IMAGES == 1):\n",
        "    normalizedImages = getNormalizedImagesFromDisk(fileNameList, fileFullNameList, preProcessedDataDirectory + \"goldenSample\", showProgressOnScreen, updateFreq)\n",
        "    saveListToBinaryFile(normalizedImages, \"outFile_normalizedImages\")\n",
        "    # normalizedImages = loadListFromBinaryFile(\"outFile_normalizedImages\")\n",
        "else:    \n",
        "    images, resizedImages, normalizedImages = generateNormalizedImages(fileNameList, fileFullNameList, preProcessedDataDirectory, writeImagesToDisk, showProgressOnScreen, updateFreq)\n",
        "    # saveListToBinaryFile(images, \"outFile_images\")\n",
        "    # saveListToBinaryFile(resizedImages, \"outFile_resizedImages\")   \n",
        "    saveListToBinaryFile(normalizedImages, \"outFile_normalizedImages\")\n",
        "\n",
        "# print(\"\")\n",
        "# print(\"\")\n",
        "print(\"..... : Process is completed\")    "
      ],
      "metadata": {
        "colab": {
          "base_uri": "https://localhost:8080/"
        },
        "id": "cDQWope5FENH",
        "outputId": "cd6adfdb-f28b-4cc5-8001-8594b4cd8dc6"
      },
      "execution_count": null,
      "outputs": [
        {
          "output_type": "stream",
          "name": "stdout",
          "text": [
            "..... : Process is completed\n"
          ]
        }
      ]
    },
    {
      "cell_type": "code",
      "source": [
        "image = normalizedImages[0]\n",
        "print(image)"
      ],
      "metadata": {
        "colab": {
          "base_uri": "https://localhost:8080/"
        },
        "id": "XJZtsdSmtpVN",
        "outputId": "72a06df7-3387-4325-a938-e8551840d3f3"
      },
      "execution_count": null,
      "outputs": [
        {
          "output_type": "stream",
          "name": "stdout",
          "text": [
            "[[255   0   0 ...   0   0   0]\n",
            " [255   0   0 ...   0   0   0]\n",
            " [255   0   0 ...   0   0   0]\n",
            " ...\n",
            " [255 191 212 ...  48   0   0]\n",
            " [255 185 228 ...  29   0   0]\n",
            " [255 255 255 ... 255 255 255]]\n"
          ]
        }
      ]
    },
    {
      "cell_type": "code",
      "source": [
        "if (DEVIDE_PIXEL_VALUES_TO_255):\n",
        "  i = 0\n",
        "  for item in normalizedImages:\n",
        "    image = normalizedImages[i]\n",
        "    image = image / 255.0\n",
        "    normalizedImages[i] = image\n",
        "    i += 1"
      ],
      "metadata": {
        "id": "u3nyf-h1t1q1"
      },
      "execution_count": null,
      "outputs": []
    },
    {
      "cell_type": "code",
      "source": [
        "image = normalizedImages[0]\n",
        "print(image)"
      ],
      "metadata": {
        "colab": {
          "base_uri": "https://localhost:8080/"
        },
        "id": "o4iv2yLYw5gX",
        "outputId": "21b0b4ef-73f0-4b92-9af7-c326c02ba0ec"
      },
      "execution_count": null,
      "outputs": [
        {
          "output_type": "stream",
          "name": "stdout",
          "text": [
            "[[1.         0.         0.         ... 0.         0.         0.        ]\n",
            " [1.         0.         0.         ... 0.         0.         0.        ]\n",
            " [1.         0.         0.         ... 0.         0.         0.        ]\n",
            " ...\n",
            " [1.         0.74901961 0.83137255 ... 0.18823529 0.         0.        ]\n",
            " [1.         0.7254902  0.89411765 ... 0.11372549 0.         0.        ]\n",
            " [1.         1.         1.         ... 1.         1.         1.        ]]\n"
          ]
        }
      ]
    },
    {
      "cell_type": "code",
      "source": [
        "# saveListToBinaryFile(normalizedImages, \"outFile_normalizedImages\") "
      ],
      "metadata": {
        "id": "saR00Glii34p"
      },
      "execution_count": null,
      "outputs": []
    },
    {
      "cell_type": "code",
      "source": [
        "# normalizedImages = loadListFromBinaryFile(\"outFile_normalizedImages\")"
      ],
      "metadata": {
        "id": "jT3GceA-jS3Y"
      },
      "execution_count": null,
      "outputs": []
    },
    {
      "cell_type": "code",
      "source": [
        "# =======================================================================\n",
        "urbanSoundsExcelFile = inputsDirectory + \"UrbanSound8K.csv\" \n",
        "urban_sounds_data = pd.read_csv(urbanSoundsExcelFile)\n",
        "\n",
        "# use data as alias\n",
        "data = urban_sounds_data"
      ],
      "metadata": {
        "id": "UNTTGEhxF9X4"
      },
      "execution_count": null,
      "outputs": []
    },
    {
      "cell_type": "code",
      "source": [
        "data.head()"
      ],
      "metadata": {
        "colab": {
          "base_uri": "https://localhost:8080/",
          "height": 206
        },
        "id": "nZwRLCGyGNJB",
        "outputId": "cc33a426-e6d4-4296-c911-5b839971dff0"
      },
      "execution_count": null,
      "outputs": [
        {
          "output_type": "execute_result",
          "data": {
            "text/plain": [
              "      slice_file_name    fsID  start        end  salience  fold  classID  \\\n",
              "0    100032-3-0-0.wav  100032    0.0   0.317551         1     5        3   \n",
              "1  100263-2-0-117.wav  100263   58.5  62.500000         1     5        2   \n",
              "2  100263-2-0-121.wav  100263   60.5  64.500000         1     5        2   \n",
              "3  100263-2-0-126.wav  100263   63.0  67.000000         1     5        2   \n",
              "4  100263-2-0-137.wav  100263   68.5  72.500000         1     5        2   \n",
              "\n",
              "              class  \n",
              "0          dog_bark  \n",
              "1  children_playing  \n",
              "2  children_playing  \n",
              "3  children_playing  \n",
              "4  children_playing  "
            ],
            "text/html": [
              "\n",
              "  <div id=\"df-d6073f24-962b-4cef-b2be-faa09529708f\">\n",
              "    <div class=\"colab-df-container\">\n",
              "      <div>\n",
              "<style scoped>\n",
              "    .dataframe tbody tr th:only-of-type {\n",
              "        vertical-align: middle;\n",
              "    }\n",
              "\n",
              "    .dataframe tbody tr th {\n",
              "        vertical-align: top;\n",
              "    }\n",
              "\n",
              "    .dataframe thead th {\n",
              "        text-align: right;\n",
              "    }\n",
              "</style>\n",
              "<table border=\"1\" class=\"dataframe\">\n",
              "  <thead>\n",
              "    <tr style=\"text-align: right;\">\n",
              "      <th></th>\n",
              "      <th>slice_file_name</th>\n",
              "      <th>fsID</th>\n",
              "      <th>start</th>\n",
              "      <th>end</th>\n",
              "      <th>salience</th>\n",
              "      <th>fold</th>\n",
              "      <th>classID</th>\n",
              "      <th>class</th>\n",
              "    </tr>\n",
              "  </thead>\n",
              "  <tbody>\n",
              "    <tr>\n",
              "      <th>0</th>\n",
              "      <td>100032-3-0-0.wav</td>\n",
              "      <td>100032</td>\n",
              "      <td>0.0</td>\n",
              "      <td>0.317551</td>\n",
              "      <td>1</td>\n",
              "      <td>5</td>\n",
              "      <td>3</td>\n",
              "      <td>dog_bark</td>\n",
              "    </tr>\n",
              "    <tr>\n",
              "      <th>1</th>\n",
              "      <td>100263-2-0-117.wav</td>\n",
              "      <td>100263</td>\n",
              "      <td>58.5</td>\n",
              "      <td>62.500000</td>\n",
              "      <td>1</td>\n",
              "      <td>5</td>\n",
              "      <td>2</td>\n",
              "      <td>children_playing</td>\n",
              "    </tr>\n",
              "    <tr>\n",
              "      <th>2</th>\n",
              "      <td>100263-2-0-121.wav</td>\n",
              "      <td>100263</td>\n",
              "      <td>60.5</td>\n",
              "      <td>64.500000</td>\n",
              "      <td>1</td>\n",
              "      <td>5</td>\n",
              "      <td>2</td>\n",
              "      <td>children_playing</td>\n",
              "    </tr>\n",
              "    <tr>\n",
              "      <th>3</th>\n",
              "      <td>100263-2-0-126.wav</td>\n",
              "      <td>100263</td>\n",
              "      <td>63.0</td>\n",
              "      <td>67.000000</td>\n",
              "      <td>1</td>\n",
              "      <td>5</td>\n",
              "      <td>2</td>\n",
              "      <td>children_playing</td>\n",
              "    </tr>\n",
              "    <tr>\n",
              "      <th>4</th>\n",
              "      <td>100263-2-0-137.wav</td>\n",
              "      <td>100263</td>\n",
              "      <td>68.5</td>\n",
              "      <td>72.500000</td>\n",
              "      <td>1</td>\n",
              "      <td>5</td>\n",
              "      <td>2</td>\n",
              "      <td>children_playing</td>\n",
              "    </tr>\n",
              "  </tbody>\n",
              "</table>\n",
              "</div>\n",
              "      <button class=\"colab-df-convert\" onclick=\"convertToInteractive('df-d6073f24-962b-4cef-b2be-faa09529708f')\"\n",
              "              title=\"Convert this dataframe to an interactive table.\"\n",
              "              style=\"display:none;\">\n",
              "        \n",
              "  <svg xmlns=\"http://www.w3.org/2000/svg\" height=\"24px\"viewBox=\"0 0 24 24\"\n",
              "       width=\"24px\">\n",
              "    <path d=\"M0 0h24v24H0V0z\" fill=\"none\"/>\n",
              "    <path d=\"M18.56 5.44l.94 2.06.94-2.06 2.06-.94-2.06-.94-.94-2.06-.94 2.06-2.06.94zm-11 1L8.5 8.5l.94-2.06 2.06-.94-2.06-.94L8.5 2.5l-.94 2.06-2.06.94zm10 10l.94 2.06.94-2.06 2.06-.94-2.06-.94-.94-2.06-.94 2.06-2.06.94z\"/><path d=\"M17.41 7.96l-1.37-1.37c-.4-.4-.92-.59-1.43-.59-.52 0-1.04.2-1.43.59L10.3 9.45l-7.72 7.72c-.78.78-.78 2.05 0 2.83L4 21.41c.39.39.9.59 1.41.59.51 0 1.02-.2 1.41-.59l7.78-7.78 2.81-2.81c.8-.78.8-2.07 0-2.86zM5.41 20L4 18.59l7.72-7.72 1.47 1.35L5.41 20z\"/>\n",
              "  </svg>\n",
              "      </button>\n",
              "      \n",
              "  <style>\n",
              "    .colab-df-container {\n",
              "      display:flex;\n",
              "      flex-wrap:wrap;\n",
              "      gap: 12px;\n",
              "    }\n",
              "\n",
              "    .colab-df-convert {\n",
              "      background-color: #E8F0FE;\n",
              "      border: none;\n",
              "      border-radius: 50%;\n",
              "      cursor: pointer;\n",
              "      display: none;\n",
              "      fill: #1967D2;\n",
              "      height: 32px;\n",
              "      padding: 0 0 0 0;\n",
              "      width: 32px;\n",
              "    }\n",
              "\n",
              "    .colab-df-convert:hover {\n",
              "      background-color: #E2EBFA;\n",
              "      box-shadow: 0px 1px 2px rgba(60, 64, 67, 0.3), 0px 1px 3px 1px rgba(60, 64, 67, 0.15);\n",
              "      fill: #174EA6;\n",
              "    }\n",
              "\n",
              "    [theme=dark] .colab-df-convert {\n",
              "      background-color: #3B4455;\n",
              "      fill: #D2E3FC;\n",
              "    }\n",
              "\n",
              "    [theme=dark] .colab-df-convert:hover {\n",
              "      background-color: #434B5C;\n",
              "      box-shadow: 0px 1px 3px 1px rgba(0, 0, 0, 0.15);\n",
              "      filter: drop-shadow(0px 1px 2px rgba(0, 0, 0, 0.3));\n",
              "      fill: #FFFFFF;\n",
              "    }\n",
              "  </style>\n",
              "\n",
              "      <script>\n",
              "        const buttonEl =\n",
              "          document.querySelector('#df-d6073f24-962b-4cef-b2be-faa09529708f button.colab-df-convert');\n",
              "        buttonEl.style.display =\n",
              "          google.colab.kernel.accessAllowed ? 'block' : 'none';\n",
              "\n",
              "        async function convertToInteractive(key) {\n",
              "          const element = document.querySelector('#df-d6073f24-962b-4cef-b2be-faa09529708f');\n",
              "          const dataTable =\n",
              "            await google.colab.kernel.invokeFunction('convertToInteractive',\n",
              "                                                     [key], {});\n",
              "          if (!dataTable) return;\n",
              "\n",
              "          const docLinkHtml = 'Like what you see? Visit the ' +\n",
              "            '<a target=\"_blank\" href=https://colab.research.google.com/notebooks/data_table.ipynb>data table notebook</a>'\n",
              "            + ' to learn more about interactive tables.';\n",
              "          element.innerHTML = '';\n",
              "          dataTable['output_type'] = 'display_data';\n",
              "          await google.colab.output.renderOutput(dataTable, element);\n",
              "          const docLink = document.createElement('div');\n",
              "          docLink.innerHTML = docLinkHtml;\n",
              "          element.appendChild(docLink);\n",
              "        }\n",
              "      </script>\n",
              "    </div>\n",
              "  </div>\n",
              "  "
            ]
          },
          "metadata": {},
          "execution_count": 24
        }
      ]
    },
    {
      "cell_type": "code",
      "source": [
        "columnHeader = list(data.columns.values)\n",
        "print(\"\")\n",
        "print(\"\")\n",
        "print(f\"..... : Column Header == {columnHeader}\")"
      ],
      "metadata": {
        "colab": {
          "base_uri": "https://localhost:8080/"
        },
        "id": "2rcZodwnJq7Y",
        "outputId": "e6282794-bafe-47db-b405-f70f74b0f527"
      },
      "execution_count": null,
      "outputs": [
        {
          "output_type": "stream",
          "name": "stdout",
          "text": [
            "\n",
            "\n",
            "..... : Column Header == ['slice_file_name', 'fsID', 'start', 'end', 'salience', 'fold', 'classID', 'class']\n"
          ]
        }
      ]
    },
    {
      "cell_type": "code",
      "source": [
        "# Drop the duplicates\n",
        "data.drop_duplicates(inplace = True)\n",
        "\n",
        "# Reset the indexes\n",
        "data.reset_index(drop = True)\n",
        "\n",
        "# Sort data\n",
        "# data.sort_values(\"slice_file_name\", axis = 0, ascending = True, inplace = True)\n",
        "\n",
        "# Reset the indexes\n",
        "data.reset_index(drop = True)\n",
        "\n",
        "# Get the statistics\n",
        "nDimension = data.ndim\n",
        "rowNum = data.shape[0] \n",
        "colNum = data.shape[1]\n",
        "elementCount = data.size\n",
        "first_column = data.iloc[:, 0]\n",
        "first_row = data.iloc[:2]"
      ],
      "metadata": {
        "id": "r3iOQh3KJ6pq"
      },
      "execution_count": null,
      "outputs": []
    },
    {
      "cell_type": "code",
      "source": [
        "# =======================================================================   \n",
        "# Get the statistics all\n",
        "print(\"\")\n",
        "print(\"\")\n",
        "print(f\"..... : statistics for all\") \n",
        "print( data.describe() )\n",
        "\n",
        "\n",
        "\"\"\"\n",
        "    * classID:\n",
        "    A numeric identifier of the sound class:\n",
        "    0 = air_conditioner\n",
        "    1 = car_horn\n",
        "    2 = children_playing\n",
        "    3 = dog_bark\n",
        "    4 = drilling\n",
        "    5 = engine_idling\n",
        "    6 = gun_shot\n",
        "    7 = jackhammer\n",
        "    8 = siren\n",
        "    9 = street_music\n",
        "\"\"\"\n",
        "# Get the statistics individuals \n",
        "i = 0\n",
        "while True:\n",
        "    if i == 10:\n",
        "        break\n",
        "    print(\"\")\n",
        "    print(\"\")\n",
        "    print(f\"..... : statistics for classID == {i}\")\n",
        "    print(  data[data[\"classID\"] == i].describe() )\n",
        "    i += 1    \n"
      ],
      "metadata": {
        "colab": {
          "base_uri": "https://localhost:8080/"
        },
        "id": "RdAqdv_nKzOI",
        "outputId": "81e2491b-7423-4bdc-d6e1-1afd9fb79f16"
      },
      "execution_count": null,
      "outputs": [
        {
          "output_type": "stream",
          "name": "stdout",
          "text": [
            "\n",
            "\n",
            "..... : statistics for all\n",
            "                fsID        start          end     salience         fold  \\\n",
            "count    8732.000000  8732.000000  8732.000000  8732.000000  8732.000000   \n",
            "mean   116033.493816    38.645409    42.253312     1.347000     5.385937   \n",
            "std     57991.017218    74.292126    74.369669     0.476043     2.846820   \n",
            "min       344.000000     0.000000     0.105962     1.000000     1.000000   \n",
            "25%     69942.250000     3.000000     6.839398     1.000000     3.000000   \n",
            "50%    118279.000000    10.376492    14.000000     1.000000     5.000000   \n",
            "75%    166942.000000    35.131372    38.866979     2.000000     8.000000   \n",
            "max    209992.000000   600.125356   604.125356     2.000000    10.000000   \n",
            "\n",
            "           classID  \n",
            "count  8732.000000  \n",
            "mean      4.592877  \n",
            "std       2.894544  \n",
            "min       0.000000  \n",
            "25%       2.000000  \n",
            "50%       4.000000  \n",
            "75%       7.000000  \n",
            "max       9.000000  \n",
            "\n",
            "\n",
            "..... : statistics for classID == 0\n",
            "                fsID        start          end     salience         fold  \\\n",
            "count    1000.000000  1000.000000  1000.000000  1000.000000  1000.000000   \n",
            "mean   132886.079000    22.064181    26.059110     1.431000     5.500000   \n",
            "std     53185.757849    45.928192    45.930725     0.495464     2.873719   \n",
            "min     13230.000000     0.000000     2.040750     1.000000     1.000000   \n",
            "25%     78252.500000     3.000000     7.000000     1.000000     3.000000   \n",
            "50%    146845.000000     8.000000    12.000000     1.000000     5.500000   \n",
            "75%    177742.000000    21.000000    25.000000     2.000000     8.000000   \n",
            "max    204240.000000   297.485610   301.485610     2.000000    10.000000   \n",
            "\n",
            "       classID  \n",
            "count   1000.0  \n",
            "mean       0.0  \n",
            "std        0.0  \n",
            "min        0.0  \n",
            "25%        0.0  \n",
            "50%        0.0  \n",
            "75%        0.0  \n",
            "max        0.0  \n",
            "\n",
            "\n",
            "..... : statistics for classID == 1\n",
            "                fsID       start         end    salience        fold  classID\n",
            "count     429.000000  429.000000  429.000000  429.000000  429.000000    429.0\n",
            "mean    96790.312354   60.043025   62.499793    1.643357    5.121212      1.0\n",
            "std     62070.882023   83.557521   84.175184    0.479567    2.614525      0.0\n",
            "min      2937.000000    0.000000    0.105962    1.000000    1.000000      1.0\n",
            "25%     49974.000000    2.000000    4.524515    1.000000    3.000000      1.0\n",
            "50%     72567.000000   13.777179   17.060993    2.000000    5.000000      1.0\n",
            "75%    162540.000000   98.082239  101.109623    2.000000    7.000000      1.0\n",
            "max    204765.000000  401.371559  402.010695    2.000000   10.000000      1.0\n",
            "\n",
            "\n",
            "..... : statistics for classID == 2\n",
            "                fsID        start          end     salience         fold  \\\n",
            "count    1000.000000  1000.000000  1000.000000  1000.000000  1000.000000   \n",
            "mean   131157.564000    17.071873    21.033747     1.412000     5.500000   \n",
            "std     59200.826733    18.489095    18.515093     0.492441     2.873719   \n",
            "min      6902.000000     0.000000     1.048434     1.000000     1.000000   \n",
            "25%     81787.000000     4.000000     8.000000     1.000000     3.000000   \n",
            "50%    155262.000000    10.500000    14.500000     1.000000     5.500000   \n",
            "75%    178826.000000    24.000000    28.000000     2.000000     8.000000   \n",
            "max    207216.000000   106.000000   110.000000     2.000000    10.000000   \n",
            "\n",
            "       classID  \n",
            "count   1000.0  \n",
            "mean       2.0  \n",
            "std        0.0  \n",
            "min        2.0  \n",
            "25%        2.0  \n",
            "50%        2.0  \n",
            "75%        2.0  \n",
            "max        2.0  \n",
            "\n",
            "\n",
            "..... : statistics for classID == 3\n",
            "                fsID        start          end     salience         fold  \\\n",
            "count    1000.000000  1000.000000  1000.000000  1000.000000  1000.000000   \n",
            "mean   101044.454000    19.844862    22.993612     1.355000     5.500000   \n",
            "std     61090.660094    40.214375    40.423599     0.478753     2.873719   \n",
            "min       344.000000     0.000000     0.135517     1.000000     1.000000   \n",
            "25%     50885.000000     1.416484     4.872192     1.000000     3.000000   \n",
            "50%     89212.500000     5.500000     9.000000     1.000000     5.500000   \n",
            "75%    160092.250000    20.328670    23.500000     2.000000     8.000000   \n",
            "max    209672.000000   350.029703   354.029703     2.000000    10.000000   \n",
            "\n",
            "       classID  \n",
            "count   1000.0  \n",
            "mean       3.0  \n",
            "std        0.0  \n",
            "min        3.0  \n",
            "25%        3.0  \n",
            "50%        3.0  \n",
            "75%        3.0  \n",
            "max        3.0  \n",
            "\n",
            "\n",
            "..... : statistics for classID == 4\n",
            "                fsID        start          end     salience         fold  \\\n",
            "count    1000.000000  1000.000000  1000.000000  1000.000000  1000.000000   \n",
            "mean   108259.162000    36.694689    40.242933     1.098000     5.500000   \n",
            "std     55035.013069    70.306964    70.374704     0.297463     2.873719   \n",
            "min       518.000000     0.000000     0.693888     1.000000     1.000000   \n",
            "25%     59429.750000     2.206339     6.000000     1.000000     3.000000   \n",
            "50%    103199.000000    11.472724    15.027354     1.000000     5.500000   \n",
            "75%    166931.000000    33.514853    36.779727     1.000000     8.000000   \n",
            "max    205878.000000   540.297910   544.297910     2.000000    10.000000   \n",
            "\n",
            "       classID  \n",
            "count   1000.0  \n",
            "mean       4.0  \n",
            "std        0.0  \n",
            "min        4.0  \n",
            "25%        4.0  \n",
            "50%        4.0  \n",
            "75%        4.0  \n",
            "max        4.0  \n",
            "\n",
            "\n",
            "..... : statistics for classID == 5\n",
            "                fsID        start          end     salience         fold  \\\n",
            "count    1000.000000  1000.000000  1000.000000  1000.000000  1000.000000   \n",
            "mean   110936.310000    27.700508    31.636500     1.084000     5.399000   \n",
            "std     58394.755457    57.533963    57.528086     0.277527     2.809215   \n",
            "min      6988.000000     0.000000     1.220340     1.000000     1.000000   \n",
            "25%     62566.000000     3.000000     7.000000     1.000000     3.000000   \n",
            "50%    111386.000000     7.465882    11.439268     1.000000     5.000000   \n",
            "75%    154758.000000    27.445889    31.445889     1.000000     8.000000   \n",
            "max    209992.000000   551.538647   555.538647     2.000000    10.000000   \n",
            "\n",
            "       classID  \n",
            "count   1000.0  \n",
            "mean       5.0  \n",
            "std        0.0  \n",
            "min        5.0  \n",
            "25%        5.0  \n",
            "50%        5.0  \n",
            "75%        5.0  \n",
            "max        5.0  \n",
            "\n",
            "\n",
            "..... : statistics for classID == 6\n",
            "                fsID       start         end    salience        fold  classID\n",
            "count     374.000000  374.000000  374.000000  374.000000  374.000000    374.0\n",
            "mean   134034.893048   11.420127   13.069316    1.187166    5.446524      6.0\n",
            "std     50000.097833   14.450996   14.707504    0.390567    2.739068      0.0\n",
            "min      7060.000000    0.000000    0.339735    1.000000    1.000000      6.0\n",
            "25%    135526.250000    0.978562    2.576539    1.000000    3.000000      6.0\n",
            "50%    145683.000000    4.837188    6.378452    1.000000    6.000000      6.0\n",
            "75%    162432.000000   17.387681   18.932722    1.000000    7.000000      6.0\n",
            "max    205013.000000   65.027823   67.370163    2.000000   10.000000      6.0\n",
            "\n",
            "\n",
            "..... : statistics for classID == 7\n",
            "                fsID        start          end     salience         fold  \\\n",
            "count    1000.000000  1000.000000  1000.000000  1000.000000  1000.000000   \n",
            "mean   125700.310000   126.235225   129.846200     1.269000     5.062000   \n",
            "std     58394.739395   139.532075   139.647526     0.443662     2.896644   \n",
            "min     14772.000000     0.000000     1.373335     1.000000     1.000000   \n",
            "25%     77751.000000    13.947156    17.544236     1.000000     3.000000   \n",
            "50%    132016.000000    64.179808    67.580208     1.000000     5.000000   \n",
            "75%    177537.000000   216.328424   220.328424     2.000000     8.000000   \n",
            "max    203929.000000   600.125356   604.125356     2.000000    10.000000   \n",
            "\n",
            "       classID  \n",
            "count   1000.0  \n",
            "mean       7.0  \n",
            "std        0.0  \n",
            "min        7.0  \n",
            "25%        7.0  \n",
            "50%        7.0  \n",
            "75%        7.0  \n",
            "max        7.0  \n",
            "\n",
            "\n",
            "..... : statistics for classID == 8\n",
            "                fsID       start         end    salience        fold  classID\n",
            "count     929.000000  929.000000  929.000000  929.000000  929.000000    929.0\n",
            "mean   106922.477933   31.651960   35.562296    1.710441    5.204521      8.0\n",
            "std     53505.798521   48.090463   48.113362    0.453802    2.802235      0.0\n",
            "min     16772.000000    0.000000    0.903690    1.000000    1.000000      8.0\n",
            "25%     62878.000000    3.500000    7.500000    1.000000    3.000000      8.0\n",
            "50%    111671.000000    9.650289   13.500000    2.000000    5.000000      8.0\n",
            "75%    157868.000000   37.225166   41.225166    2.000000    8.000000      8.0\n",
            "max    208652.000000  204.913986  208.913986    2.000000   10.000000      8.0\n",
            "\n",
            "\n",
            "..... : statistics for classID == 9\n",
            "                fsID        start          end     salience         fold  \\\n",
            "count    1000.000000  1000.000000  1000.000000  1000.000000  1000.000000   \n",
            "mean   112237.513000    28.406113    32.406113     1.375000     5.500000   \n",
            "std     54253.634847    41.306199    41.306199     0.484365     2.873719   \n",
            "min      6508.000000     0.000000     4.000000     1.000000     1.000000   \n",
            "25%     73277.000000     4.000000     8.000000     1.000000     3.000000   \n",
            "50%    109263.000000    11.192449    15.192449     1.000000     5.500000   \n",
            "75%    157940.000000    33.500000    37.500000     2.000000     8.000000   \n",
            "max    203654.000000   301.643650   305.643650     2.000000    10.000000   \n",
            "\n",
            "       classID  \n",
            "count   1000.0  \n",
            "mean       9.0  \n",
            "std        0.0  \n",
            "min        9.0  \n",
            "25%        9.0  \n",
            "50%        9.0  \n",
            "75%        9.0  \n",
            "max        9.0  \n"
          ]
        }
      ]
    },
    {
      "cell_type": "code",
      "source": [
        "column_names_to_be_dropped = [ 'fsID', 'start', 'end' ,'salience', 'fold' ]\n",
        "data.drop( column_names_to_be_dropped , axis=1, inplace=True)\n",
        "\n",
        "# data[\"img_file_full_name\"] = \"img_file_full_name\"\n",
        "\n",
        "for i in range(len(data)):\n",
        "    str = data.loc[i, \"slice_file_name\"]\n",
        "    result = str.replace(\".wav\", \".png\")\n",
        "    data.loc[i, \"slice_file_name\"] = result\n",
        "    \"\"\"\n",
        "    print(data.loc[i, \"slice_file_name\"], \n",
        "          data.loc[i, \"classID\"],\n",
        "          data.loc[i, \"class\"] )\n",
        "    \"\"\"    \n",
        "\n",
        "# Drop the duplicates\n",
        "data.drop_duplicates(inplace = True)\n",
        "\n",
        "# Reset the indexes\n",
        "data.reset_index(drop = True)\n",
        "\n",
        "# Sort data\n",
        "data.sort_values(\"slice_file_name\", axis = 0, ascending = True, inplace = True)\n",
        "\n",
        "# Reset the indexes\n",
        "data.reset_index(drop = True)\n",
        "\n",
        "# Get the statistics\n",
        "nDimension = data.ndim\n",
        "rowNum = data.shape[0] \n",
        "colNum = data.shape[1]\n",
        "elementCount = data.size\n",
        "first_column = data.iloc[:, 0]\n",
        "first_row = data.iloc[:2]\n",
        "\n",
        "# Write data to csv file\n",
        "csv_file_name = workingDirectory + 'UrbanSound8K_new.csv'\n",
        "data.to_csv(csv_file_name, sep =',', index=False)  # , \\t ;\n",
        "\n",
        "# print(data.head())\n",
        "print(\"\")\n",
        "print(\"\")\n",
        "print(f\"..... : Dosya olusturuldu : { csv_file_name}\")"
      ],
      "metadata": {
        "colab": {
          "base_uri": "https://localhost:8080/"
        },
        "id": "HmAWPor7LEa_",
        "outputId": "fb660e1d-f751-488b-d5b8-b74aa6467cc2"
      },
      "execution_count": null,
      "outputs": [
        {
          "output_type": "stream",
          "name": "stdout",
          "text": [
            "\n",
            "\n",
            "..... : Dosya olusturuldu : /content/drive/My Drive/Colab Notebooks/GlobalAiHub/UrbanSound8K_new.csv\n"
          ]
        }
      ]
    },
    {
      "cell_type": "code",
      "source": [
        "data.head()"
      ],
      "metadata": {
        "colab": {
          "base_uri": "https://localhost:8080/",
          "height": 206
        },
        "id": "pOGco3oKLaa_",
        "outputId": "649ebf48-f885-40af-ad22-c6aaff548e46"
      },
      "execution_count": null,
      "outputs": [
        {
          "output_type": "execute_result",
          "data": {
            "text/plain": [
              "      slice_file_name  classID             class\n",
              "0    100032-3-0-0.png        3          dog_bark\n",
              "1  100263-2-0-117.png        2  children_playing\n",
              "2  100263-2-0-121.png        2  children_playing\n",
              "3  100263-2-0-126.png        2  children_playing\n",
              "4  100263-2-0-137.png        2  children_playing"
            ],
            "text/html": [
              "\n",
              "  <div id=\"df-1adde1a6-b2e9-445c-81c1-b570a51dbba4\">\n",
              "    <div class=\"colab-df-container\">\n",
              "      <div>\n",
              "<style scoped>\n",
              "    .dataframe tbody tr th:only-of-type {\n",
              "        vertical-align: middle;\n",
              "    }\n",
              "\n",
              "    .dataframe tbody tr th {\n",
              "        vertical-align: top;\n",
              "    }\n",
              "\n",
              "    .dataframe thead th {\n",
              "        text-align: right;\n",
              "    }\n",
              "</style>\n",
              "<table border=\"1\" class=\"dataframe\">\n",
              "  <thead>\n",
              "    <tr style=\"text-align: right;\">\n",
              "      <th></th>\n",
              "      <th>slice_file_name</th>\n",
              "      <th>classID</th>\n",
              "      <th>class</th>\n",
              "    </tr>\n",
              "  </thead>\n",
              "  <tbody>\n",
              "    <tr>\n",
              "      <th>0</th>\n",
              "      <td>100032-3-0-0.png</td>\n",
              "      <td>3</td>\n",
              "      <td>dog_bark</td>\n",
              "    </tr>\n",
              "    <tr>\n",
              "      <th>1</th>\n",
              "      <td>100263-2-0-117.png</td>\n",
              "      <td>2</td>\n",
              "      <td>children_playing</td>\n",
              "    </tr>\n",
              "    <tr>\n",
              "      <th>2</th>\n",
              "      <td>100263-2-0-121.png</td>\n",
              "      <td>2</td>\n",
              "      <td>children_playing</td>\n",
              "    </tr>\n",
              "    <tr>\n",
              "      <th>3</th>\n",
              "      <td>100263-2-0-126.png</td>\n",
              "      <td>2</td>\n",
              "      <td>children_playing</td>\n",
              "    </tr>\n",
              "    <tr>\n",
              "      <th>4</th>\n",
              "      <td>100263-2-0-137.png</td>\n",
              "      <td>2</td>\n",
              "      <td>children_playing</td>\n",
              "    </tr>\n",
              "  </tbody>\n",
              "</table>\n",
              "</div>\n",
              "      <button class=\"colab-df-convert\" onclick=\"convertToInteractive('df-1adde1a6-b2e9-445c-81c1-b570a51dbba4')\"\n",
              "              title=\"Convert this dataframe to an interactive table.\"\n",
              "              style=\"display:none;\">\n",
              "        \n",
              "  <svg xmlns=\"http://www.w3.org/2000/svg\" height=\"24px\"viewBox=\"0 0 24 24\"\n",
              "       width=\"24px\">\n",
              "    <path d=\"M0 0h24v24H0V0z\" fill=\"none\"/>\n",
              "    <path d=\"M18.56 5.44l.94 2.06.94-2.06 2.06-.94-2.06-.94-.94-2.06-.94 2.06-2.06.94zm-11 1L8.5 8.5l.94-2.06 2.06-.94-2.06-.94L8.5 2.5l-.94 2.06-2.06.94zm10 10l.94 2.06.94-2.06 2.06-.94-2.06-.94-.94-2.06-.94 2.06-2.06.94z\"/><path d=\"M17.41 7.96l-1.37-1.37c-.4-.4-.92-.59-1.43-.59-.52 0-1.04.2-1.43.59L10.3 9.45l-7.72 7.72c-.78.78-.78 2.05 0 2.83L4 21.41c.39.39.9.59 1.41.59.51 0 1.02-.2 1.41-.59l7.78-7.78 2.81-2.81c.8-.78.8-2.07 0-2.86zM5.41 20L4 18.59l7.72-7.72 1.47 1.35L5.41 20z\"/>\n",
              "  </svg>\n",
              "      </button>\n",
              "      \n",
              "  <style>\n",
              "    .colab-df-container {\n",
              "      display:flex;\n",
              "      flex-wrap:wrap;\n",
              "      gap: 12px;\n",
              "    }\n",
              "\n",
              "    .colab-df-convert {\n",
              "      background-color: #E8F0FE;\n",
              "      border: none;\n",
              "      border-radius: 50%;\n",
              "      cursor: pointer;\n",
              "      display: none;\n",
              "      fill: #1967D2;\n",
              "      height: 32px;\n",
              "      padding: 0 0 0 0;\n",
              "      width: 32px;\n",
              "    }\n",
              "\n",
              "    .colab-df-convert:hover {\n",
              "      background-color: #E2EBFA;\n",
              "      box-shadow: 0px 1px 2px rgba(60, 64, 67, 0.3), 0px 1px 3px 1px rgba(60, 64, 67, 0.15);\n",
              "      fill: #174EA6;\n",
              "    }\n",
              "\n",
              "    [theme=dark] .colab-df-convert {\n",
              "      background-color: #3B4455;\n",
              "      fill: #D2E3FC;\n",
              "    }\n",
              "\n",
              "    [theme=dark] .colab-df-convert:hover {\n",
              "      background-color: #434B5C;\n",
              "      box-shadow: 0px 1px 3px 1px rgba(0, 0, 0, 0.15);\n",
              "      filter: drop-shadow(0px 1px 2px rgba(0, 0, 0, 0.3));\n",
              "      fill: #FFFFFF;\n",
              "    }\n",
              "  </style>\n",
              "\n",
              "      <script>\n",
              "        const buttonEl =\n",
              "          document.querySelector('#df-1adde1a6-b2e9-445c-81c1-b570a51dbba4 button.colab-df-convert');\n",
              "        buttonEl.style.display =\n",
              "          google.colab.kernel.accessAllowed ? 'block' : 'none';\n",
              "\n",
              "        async function convertToInteractive(key) {\n",
              "          const element = document.querySelector('#df-1adde1a6-b2e9-445c-81c1-b570a51dbba4');\n",
              "          const dataTable =\n",
              "            await google.colab.kernel.invokeFunction('convertToInteractive',\n",
              "                                                     [key], {});\n",
              "          if (!dataTable) return;\n",
              "\n",
              "          const docLinkHtml = 'Like what you see? Visit the ' +\n",
              "            '<a target=\"_blank\" href=https://colab.research.google.com/notebooks/data_table.ipynb>data table notebook</a>'\n",
              "            + ' to learn more about interactive tables.';\n",
              "          element.innerHTML = '';\n",
              "          dataTable['output_type'] = 'display_data';\n",
              "          await google.colab.output.renderOutput(dataTable, element);\n",
              "          const docLink = document.createElement('div');\n",
              "          docLink.innerHTML = docLinkHtml;\n",
              "          element.appendChild(docLink);\n",
              "        }\n",
              "      </script>\n",
              "    </div>\n",
              "  </div>\n",
              "  "
            ]
          },
          "metadata": {},
          "execution_count": 29
        }
      ]
    },
    {
      "cell_type": "code",
      "source": [
        "labels_class      = urban_sounds_data[\"class\"].values\n",
        "labels_classID    = urban_sounds_data[\"classID\"].values\n",
        "\n",
        "if ( QUICK_MODE_ENABLED == 1):\n",
        "    labels_class = labels_class[:LIMITER_COUNT]\n",
        "    labels_classID = labels_classID[:LIMITER_COUNT]\n",
        "    \n",
        "urban_sounds_data['classID'].unique()\n",
        "\n",
        "NUM_CATEGORIES = len( urban_sounds_data['classID'].unique() )"
      ],
      "metadata": {
        "id": "naTGIgN0GSjT"
      },
      "execution_count": null,
      "outputs": []
    },
    {
      "cell_type": "code",
      "source": [
        "# =======================================================================\n",
        "dictionary = { \"labels\" : [] , \"images\" : [] }\n",
        "data           = pd.DataFrame(dictionary)\n",
        "data[\"labels\"] = labels_classID\n",
        "data[\"images\"] = normalizedImages"
      ],
      "metadata": {
        "id": "nCcGFg4CGh-Q"
      },
      "execution_count": null,
      "outputs": []
    },
    {
      "cell_type": "code",
      "source": [
        "data.head()"
      ],
      "metadata": {
        "colab": {
          "base_uri": "https://localhost:8080/",
          "height": 206
        },
        "id": "yp2ffh4xIPXb",
        "outputId": "dc22c129-577f-485b-f988-bb0fe19726cd"
      },
      "execution_count": null,
      "outputs": [
        {
          "output_type": "execute_result",
          "data": {
            "text/plain": [
              "   labels                                             images\n",
              "0       3  [[1.0, 0.0, 0.0, 0.0, 0.0, 0.0, 0.0, 0.0, 0.0,...\n",
              "1       2  [[1.0, 0.0, 0.0, 0.0, 0.0, 0.0, 0.0, 0.0, 0.0,...\n",
              "2       2  [[1.0, 0.0, 0.0, 0.0, 0.0, 0.0, 0.0, 0.0, 0.0,...\n",
              "3       2  [[1.0, 0.0, 0.0, 0.0, 0.0, 0.0, 0.0, 0.0, 0.0,...\n",
              "4       2  [[1.0, 0.0, 0.0, 0.0, 0.0, 0.0, 0.0, 0.0, 0.0,..."
            ],
            "text/html": [
              "\n",
              "  <div id=\"df-b56c43bd-c01c-4462-831c-8bbc00c43374\">\n",
              "    <div class=\"colab-df-container\">\n",
              "      <div>\n",
              "<style scoped>\n",
              "    .dataframe tbody tr th:only-of-type {\n",
              "        vertical-align: middle;\n",
              "    }\n",
              "\n",
              "    .dataframe tbody tr th {\n",
              "        vertical-align: top;\n",
              "    }\n",
              "\n",
              "    .dataframe thead th {\n",
              "        text-align: right;\n",
              "    }\n",
              "</style>\n",
              "<table border=\"1\" class=\"dataframe\">\n",
              "  <thead>\n",
              "    <tr style=\"text-align: right;\">\n",
              "      <th></th>\n",
              "      <th>labels</th>\n",
              "      <th>images</th>\n",
              "    </tr>\n",
              "  </thead>\n",
              "  <tbody>\n",
              "    <tr>\n",
              "      <th>0</th>\n",
              "      <td>3</td>\n",
              "      <td>[[1.0, 0.0, 0.0, 0.0, 0.0, 0.0, 0.0, 0.0, 0.0,...</td>\n",
              "    </tr>\n",
              "    <tr>\n",
              "      <th>1</th>\n",
              "      <td>2</td>\n",
              "      <td>[[1.0, 0.0, 0.0, 0.0, 0.0, 0.0, 0.0, 0.0, 0.0,...</td>\n",
              "    </tr>\n",
              "    <tr>\n",
              "      <th>2</th>\n",
              "      <td>2</td>\n",
              "      <td>[[1.0, 0.0, 0.0, 0.0, 0.0, 0.0, 0.0, 0.0, 0.0,...</td>\n",
              "    </tr>\n",
              "    <tr>\n",
              "      <th>3</th>\n",
              "      <td>2</td>\n",
              "      <td>[[1.0, 0.0, 0.0, 0.0, 0.0, 0.0, 0.0, 0.0, 0.0,...</td>\n",
              "    </tr>\n",
              "    <tr>\n",
              "      <th>4</th>\n",
              "      <td>2</td>\n",
              "      <td>[[1.0, 0.0, 0.0, 0.0, 0.0, 0.0, 0.0, 0.0, 0.0,...</td>\n",
              "    </tr>\n",
              "  </tbody>\n",
              "</table>\n",
              "</div>\n",
              "      <button class=\"colab-df-convert\" onclick=\"convertToInteractive('df-b56c43bd-c01c-4462-831c-8bbc00c43374')\"\n",
              "              title=\"Convert this dataframe to an interactive table.\"\n",
              "              style=\"display:none;\">\n",
              "        \n",
              "  <svg xmlns=\"http://www.w3.org/2000/svg\" height=\"24px\"viewBox=\"0 0 24 24\"\n",
              "       width=\"24px\">\n",
              "    <path d=\"M0 0h24v24H0V0z\" fill=\"none\"/>\n",
              "    <path d=\"M18.56 5.44l.94 2.06.94-2.06 2.06-.94-2.06-.94-.94-2.06-.94 2.06-2.06.94zm-11 1L8.5 8.5l.94-2.06 2.06-.94-2.06-.94L8.5 2.5l-.94 2.06-2.06.94zm10 10l.94 2.06.94-2.06 2.06-.94-2.06-.94-.94-2.06-.94 2.06-2.06.94z\"/><path d=\"M17.41 7.96l-1.37-1.37c-.4-.4-.92-.59-1.43-.59-.52 0-1.04.2-1.43.59L10.3 9.45l-7.72 7.72c-.78.78-.78 2.05 0 2.83L4 21.41c.39.39.9.59 1.41.59.51 0 1.02-.2 1.41-.59l7.78-7.78 2.81-2.81c.8-.78.8-2.07 0-2.86zM5.41 20L4 18.59l7.72-7.72 1.47 1.35L5.41 20z\"/>\n",
              "  </svg>\n",
              "      </button>\n",
              "      \n",
              "  <style>\n",
              "    .colab-df-container {\n",
              "      display:flex;\n",
              "      flex-wrap:wrap;\n",
              "      gap: 12px;\n",
              "    }\n",
              "\n",
              "    .colab-df-convert {\n",
              "      background-color: #E8F0FE;\n",
              "      border: none;\n",
              "      border-radius: 50%;\n",
              "      cursor: pointer;\n",
              "      display: none;\n",
              "      fill: #1967D2;\n",
              "      height: 32px;\n",
              "      padding: 0 0 0 0;\n",
              "      width: 32px;\n",
              "    }\n",
              "\n",
              "    .colab-df-convert:hover {\n",
              "      background-color: #E2EBFA;\n",
              "      box-shadow: 0px 1px 2px rgba(60, 64, 67, 0.3), 0px 1px 3px 1px rgba(60, 64, 67, 0.15);\n",
              "      fill: #174EA6;\n",
              "    }\n",
              "\n",
              "    [theme=dark] .colab-df-convert {\n",
              "      background-color: #3B4455;\n",
              "      fill: #D2E3FC;\n",
              "    }\n",
              "\n",
              "    [theme=dark] .colab-df-convert:hover {\n",
              "      background-color: #434B5C;\n",
              "      box-shadow: 0px 1px 3px 1px rgba(0, 0, 0, 0.15);\n",
              "      filter: drop-shadow(0px 1px 2px rgba(0, 0, 0, 0.3));\n",
              "      fill: #FFFFFF;\n",
              "    }\n",
              "  </style>\n",
              "\n",
              "      <script>\n",
              "        const buttonEl =\n",
              "          document.querySelector('#df-b56c43bd-c01c-4462-831c-8bbc00c43374 button.colab-df-convert');\n",
              "        buttonEl.style.display =\n",
              "          google.colab.kernel.accessAllowed ? 'block' : 'none';\n",
              "\n",
              "        async function convertToInteractive(key) {\n",
              "          const element = document.querySelector('#df-b56c43bd-c01c-4462-831c-8bbc00c43374');\n",
              "          const dataTable =\n",
              "            await google.colab.kernel.invokeFunction('convertToInteractive',\n",
              "                                                     [key], {});\n",
              "          if (!dataTable) return;\n",
              "\n",
              "          const docLinkHtml = 'Like what you see? Visit the ' +\n",
              "            '<a target=\"_blank\" href=https://colab.research.google.com/notebooks/data_table.ipynb>data table notebook</a>'\n",
              "            + ' to learn more about interactive tables.';\n",
              "          element.innerHTML = '';\n",
              "          dataTable['output_type'] = 'display_data';\n",
              "          await google.colab.output.renderOutput(dataTable, element);\n",
              "          const docLink = document.createElement('div');\n",
              "          docLink.innerHTML = docLinkHtml;\n",
              "          element.appendChild(docLink);\n",
              "        }\n",
              "      </script>\n",
              "    </div>\n",
              "  </div>\n",
              "  "
            ]
          },
          "metadata": {},
          "execution_count": 32
        }
      ]
    },
    {
      "cell_type": "code",
      "source": [
        "columnHeader = list(data.columns.values)\n",
        "print(\"\")\n",
        "print(\"\")\n",
        "print(f\"..... : Column Header == {columnHeader}\")"
      ],
      "metadata": {
        "colab": {
          "base_uri": "https://localhost:8080/"
        },
        "id": "VxdyG7IiJkbr",
        "outputId": "fa316cee-b877-4f34-8a49-11b16e32052a"
      },
      "execution_count": null,
      "outputs": [
        {
          "output_type": "stream",
          "name": "stdout",
          "text": [
            "\n",
            "\n",
            "..... : Column Header == ['labels', 'images']\n"
          ]
        }
      ]
    },
    {
      "cell_type": "code",
      "source": [
        "# Reset the indexes\n",
        "data.reset_index(drop = True)\n",
        "\n",
        "# Sort data\n",
        "# data.sort_values(\"labels\", axis = 0, ascending = True, inplace = True)\n",
        "\n",
        "# Reset the indexes\n",
        "data.reset_index(drop = True)\n",
        "\n",
        "# Get the statistics\n",
        "nDimension = data.ndim\n",
        "rowNum = data.shape[0] \n",
        "colNum = data.shape[1]\n",
        "elementCount = data.size\n",
        "first_column = data.iloc[:, 0]\n",
        "first_row = data.iloc[:2]"
      ],
      "metadata": {
        "id": "y7Mn2CTQKTbL"
      },
      "execution_count": null,
      "outputs": []
    },
    {
      "cell_type": "code",
      "source": [
        "# =======================================================================\n",
        "x = np.array(normalizedImages)\n",
        "y = np.array(labels_classID)"
      ],
      "metadata": {
        "id": "v0JngyDEGlvD"
      },
      "execution_count": null,
      "outputs": []
    },
    {
      "cell_type": "code",
      "source": [
        "test_size = 0.2\n",
        "val_size = 0.2\n",
        "x_train, y_train, x_test, y_test, x_val, y_val = model.splitData(x, y, test_size, val_size) "
      ],
      "metadata": {
        "id": "3qacl-yxGm2s"
      },
      "execution_count": null,
      "outputs": []
    },
    {
      "cell_type": "code",
      "source": [
        "model.showSplittedDataMetrics()"
      ],
      "metadata": {
        "colab": {
          "base_uri": "https://localhost:8080/"
        },
        "id": "tLkjq160GnEq",
        "outputId": "672b29e1-284f-40e2-d291-d2391eaa36f3"
      },
      "execution_count": null,
      "outputs": [
        {
          "output_type": "stream",
          "name": "stdout",
          "text": [
            "Length of the dataset : 100\n",
            "Length of the training dataset : 60\n",
            "Length of the validation dataset : 20\n",
            "Length of the test dataset : 20\n"
          ]
        }
      ]
    },
    {
      "cell_type": "code",
      "source": [
        "model.NUM_CATEGORIES = NUM_CATEGORIES\n",
        "model.IMG_HEIGHT = IMG_HEIGHT\n",
        "model.IMG_WIDTH = IMG_WIDTH\n",
        "model.IMG_DEPTH = IMG_DEPTH"
      ],
      "metadata": {
        "id": "SujEv-JIGnQK"
      },
      "execution_count": null,
      "outputs": []
    },
    {
      "cell_type": "code",
      "source": [
        "modelIndex = SELECTED_TOPOLOGY_INDEX    # used for quick model selection\n",
        "model.buildModel(modelIndex) "
      ],
      "metadata": {
        "colab": {
          "base_uri": "https://localhost:8080/"
        },
        "id": "-lYug1-zGnap",
        "outputId": "7723ba4d-6c5d-45ce-d79b-078d25ac5e98"
      },
      "execution_count": null,
      "outputs": [
        {
          "output_type": "execute_result",
          "data": {
            "text/plain": [
              "<keras.engine.sequential.Sequential at 0x7f7a3b5ff610>"
            ]
          },
          "metadata": {},
          "execution_count": 39
        }
      ]
    },
    {
      "cell_type": "code",
      "source": [
        "model.compileModel()"
      ],
      "metadata": {
        "colab": {
          "base_uri": "https://localhost:8080/"
        },
        "id": "r5L0mbiCG0EZ",
        "outputId": "5dfbcc28-9cb8-4433-9d3d-92d7c423058b"
      },
      "execution_count": null,
      "outputs": [
        {
          "output_type": "execute_result",
          "data": {
            "text/plain": [
              "<keras.engine.sequential.Sequential at 0x7f7a3b5ff610>"
            ]
          },
          "metadata": {},
          "execution_count": 40
        }
      ]
    },
    {
      "cell_type": "code",
      "source": [
        "# model.showModelSummary() "
      ],
      "metadata": {
        "id": "tGLoR_4mG0Kq"
      },
      "execution_count": null,
      "outputs": []
    },
    {
      "cell_type": "code",
      "source": [
        "model.expandDimension()"
      ],
      "metadata": {
        "id": "Dn9AQZhZG0QH"
      },
      "execution_count": null,
      "outputs": []
    },
    {
      "cell_type": "code",
      "source": [
        "epoch = 2\n",
        "batchSize = 32\n",
        "\n",
        "if ( QUICK_MODE_ENABLED == 1 ):\n",
        "  epoch = 5\n",
        "\n",
        "model.execute(epoch, batchSize)"
      ],
      "metadata": {
        "colab": {
          "base_uri": "https://localhost:8080/"
        },
        "id": "jR2Xx4f6G0jq",
        "outputId": "863b9516-0522-4c94-b6a0-3a92f6391722"
      },
      "execution_count": null,
      "outputs": [
        {
          "output_type": "stream",
          "name": "stdout",
          "text": [
            "Fit model on training data\n",
            "Epoch 1/5\n",
            "2/2 [==============================] - 312s 163s/step - loss: 8.5300 - acc: 0.0667 - val_loss: 6.5300 - val_acc: 0.3500\n",
            "Epoch 2/5\n",
            "2/2 [==============================] - 320s 171s/step - loss: 8.5300 - acc: 0.1833 - val_loss: 6.5300 - val_acc: 0.0000e+00\n",
            "Epoch 3/5\n",
            "2/2 [==============================] - 302s 161s/step - loss: 8.5300 - acc: 0.2167 - val_loss: 6.5300 - val_acc: 0.0000e+00\n",
            "Epoch 4/5\n",
            "2/2 [==============================] - 309s 169s/step - loss: 8.5300 - acc: 0.0167 - val_loss: 6.5300 - val_acc: 0.0000e+00\n",
            "Epoch 5/5\n",
            "2/2 [==============================] - 296s 160s/step - loss: 8.5300 - acc: 0.0167 - val_loss: 6.5300 - val_acc: 0.0000e+00\n"
          ]
        },
        {
          "output_type": "execute_result",
          "data": {
            "text/plain": [
              "<keras.callbacks.History at 0x7f7a376d4250>"
            ]
          },
          "metadata": {},
          "execution_count": 43
        }
      ]
    },
    {
      "cell_type": "code",
      "source": [
        "model.showHistory()"
      ],
      "metadata": {
        "id": "2Hp0iAlkG0qW",
        "colab": {
          "base_uri": "https://localhost:8080/"
        },
        "outputId": "ebaf9e23-9a02-45d2-c815-111f58843650"
      },
      "execution_count": null,
      "outputs": [
        {
          "output_type": "stream",
          "name": "stdout",
          "text": [
            "{'loss': [8.530007362365723, 8.530000686645508, 8.530000686645508, 8.530000686645508, 8.529999732971191], 'acc': [0.06666667014360428, 0.18333333730697632, 0.21666666865348816, 0.01666666753590107, 0.01666666753590107], 'val_loss': [6.53000020980835, 6.53000020980835, 6.53000020980835, 6.53000020980835, 6.53000020980835], 'val_acc': [0.3499999940395355, 0.0, 0.0, 0.0, 0.0]}\n",
            "dict_keys(['loss', 'acc', 'val_loss', 'val_acc'])\n"
          ]
        }
      ]
    },
    {
      "cell_type": "code",
      "source": [
        "model.plotHistory()"
      ],
      "metadata": {
        "id": "0yzny34hG0uy",
        "colab": {
          "base_uri": "https://localhost:8080/",
          "height": 541
        },
        "outputId": "53a84561-1b0c-48a7-8054-713204d05a5a"
      },
      "execution_count": null,
      "outputs": [
        {
          "output_type": "display_data",
          "data": {
            "text/plain": [
              "<Figure size 432x288 with 1 Axes>"
            ],
            "image/png": "[encoded data removed]"
          },
          "metadata": {
            "needs_background": "light"
          }
        },
        {
          "output_type": "display_data",
          "data": {
            "text/plain": [
              "<Figure size 432x288 with 1 Axes>"
            ],
            "image/png": "[encoded data removed]"
          },
          "metadata": {
            "needs_background": "light"
          }
        }
      ]
    },
    {
      "cell_type": "code",
      "source": [
        "batchSize = 32\n",
        "model.evaluate(batchSize)"
      ],
      "metadata": {
        "id": "-agAglNOG0y1",
        "colab": {
          "base_uri": "https://localhost:8080/"
        },
        "outputId": "03c8d785-c63c-4a4d-d74c-746b590de2ab"
      },
      "execution_count": null,
      "outputs": [
        {
          "output_type": "stream",
          "name": "stdout",
          "text": [
            "Evaluate on test data\n",
            "1/1 [==============================] - 25s 25s/step - loss: 1.0700 - acc: 0.0000e+00\n"
          ]
        },
        {
          "output_type": "execute_result",
          "data": {
            "text/plain": [
              "[1.0700000524520874, 0.0]"
            ]
          },
          "metadata": {},
          "execution_count": 46
        }
      ]
    },
    {
      "cell_type": "code",
      "source": [
        "model.printEvaluationResults()"
      ],
      "metadata": {
        "id": "AR9IxQ6mG02y",
        "colab": {
          "base_uri": "https://localhost:8080/"
        },
        "outputId": "b76dac50-696d-4d7d-8627-e87fbb26a79a"
      },
      "execution_count": null,
      "outputs": [
        {
          "output_type": "stream",
          "name": "stdout",
          "text": [
            "loss: 1.0700000524520874\n",
            "Accuracy: 0.0\n"
          ]
        }
      ]
    },
    {
      "cell_type": "code",
      "source": [
        "x = x_test[8].reshape(1,IMG_HEIGHT,IMG_WIDTH,IMG_DEPTH)\n",
        "model.predict(x)"
      ],
      "metadata": {
        "id": "MQUTuEW9HAD-",
        "colab": {
          "base_uri": "https://localhost:8080/"
        },
        "outputId": "360d057b-044a-411f-997e-17b756e31a06"
      },
      "execution_count": null,
      "outputs": [
        {
          "output_type": "execute_result",
          "data": {
            "text/plain": [
              "array([[0.10008052, 0.10006392, 0.10025751, 0.09964157, 0.09990147,\n",
              "        0.09996206, 0.09984613, 0.10043062, 0.09969983, 0.10011631]],\n",
              "      dtype=float32)"
            ]
          },
          "metadata": {},
          "execution_count": 48
        }
      ]
    },
    {
      "cell_type": "code",
      "source": [
        "model.printPredictionResults()"
      ],
      "metadata": {
        "id": "G7buAsYgHAJu",
        "colab": {
          "base_uri": "https://localhost:8080/"
        },
        "outputId": "8b57396f-df38-4144-9591-15a269de654c"
      },
      "execution_count": null,
      "outputs": [
        {
          "output_type": "stream",
          "name": "stdout",
          "text": [
            "Predicted Class: 7\n",
            "Prediction Probability: 0.100430615\n",
            "predictionResult: [[0.10008052 0.10006392 0.10025751 0.09964157 0.09990147 0.09996206\n",
            "  0.09984613 0.10043062 0.09969983 0.10011631]]\n",
            "predictions shape: (1, 10)\n"
          ]
        }
      ]
    },
    {
      "cell_type": "code",
      "source": [
        "print(f'This image belongs to the class {model.predictedClass} with {model.predictionProbability} probability')"
      ],
      "metadata": {
        "id": "6DS7YFBpHAOh",
        "colab": {
          "base_uri": "https://localhost:8080/"
        },
        "outputId": "c9d4d829-989f-4368-c549-06001b95960e"
      },
      "execution_count": null,
      "outputs": [
        {
          "output_type": "stream",
          "name": "stdout",
          "text": [
            "This image belongs to the class 7 with 0.10043061524629593 probability\n"
          ]
        }
      ]
    },
    {
      "cell_type": "code",
      "source": [
        "\"\"\"\n",
        "print(\"\")\n",
        "print(\"\")\n",
        "saveModelToFile(model)\n",
        "\n",
        "print(\"\")\n",
        "print(\"\")\n",
        "deleteModel(model)\n",
        "\n",
        "print(\"\")\n",
        "print(\"\")\n",
        "model = loadModelFromFile()\n",
        "\"\"\""
      ],
      "metadata": {
        "id": "MiiCi4XYdAhP",
        "colab": {
          "base_uri": "https://localhost:8080/",
          "height": 52
        },
        "outputId": "a71ceee5-314c-430f-8682-8c9d680a5c47"
      },
      "execution_count": null,
      "outputs": [
        {
          "output_type": "execute_result",
          "data": {
            "text/plain": [
              "'\\nprint(\"\")\\nprint(\"\")\\nsaveModelToFile(model)\\n\\nprint(\"\")\\nprint(\"\")\\ndeleteModel(model)\\n\\nprint(\"\")\\nprint(\"\")\\nmodel = loadModelFromFile()\\n'"
            ],
            "application/vnd.google.colaboratory.intrinsic+json": {
              "type": "string"
            }
          },
          "metadata": {},
          "execution_count": 51
        }
      ]
    },
    {
      "cell_type": "code",
      "source": [
        "# =============================================================================\n",
        "# Select image as imageIndex\n",
        "i = 0\n",
        "\n",
        "# Get selected image name with full path\n",
        "fileName = fileNameList[i]\n",
        "\n",
        "fileFullName = fileFullNameList[i]\n",
        "    \n",
        "# Read image, resize and normalize\n",
        "image = imageUtils.readImage(fileFullName, cv.IMREAD_GRAYSCALE)\n",
        "\n",
        "resizedImage = imageUtils.resizeImage(image, IMG_HEIGHT, IMG_WIDTH)\n",
        "\n",
        "normalizedImage = imageUtils.normalizeImage(resizedImage)\n",
        "   \n",
        "# Create input array\n",
        "x = np.array(normalizedImage)\n",
        "   \n",
        "# Get expected class id\n",
        "expectedClassId = labels_classID[i]\n",
        "\n",
        "# Get expected class name\n",
        "expectedClassName = labels_class[i]\n",
        "    \n",
        "# Predict with the trained model\n",
        "x = x.reshape(1,IMG_HEIGHT,IMG_WIDTH,IMG_DEPTH)\n",
        "model.predict(x)\n",
        "\n",
        "# Print the prediction result\n",
        "model.printPredictionResults()\n",
        "\n",
        "# Find the predicted class\n",
        "predicted_class = model.predictedClass\n",
        "\n",
        "# Find the prediction probability\n",
        "prediction_probability = model.predictionProbability\n",
        "\n",
        "# Get predicted class id\n",
        "predictedClassId = predicted_class\n",
        "\n",
        "# Get predicted class name\n",
        "predictedClassName = labels_class[predictedClassId]\n",
        "\n",
        "print(\"\")\n",
        "print(\"\")\n",
        "print(f'expected  : This image belongs to the class {expectedClassId} , {expectedClassName}')\n",
        "print(\"\")\n",
        "print(\"\")\n",
        "print(f'predicted : This image belongs to the class {predicted_class} with {prediction_probability} probability')\n",
        "print(\"\")\n",
        "print(\"\")\n",
        "print('urban_sounds_data - classID : ', urban_sounds_data['classID'].unique()) \n",
        "print(\"\")\n",
        "print(\"\")\n",
        "print('urban_sounds_data - class : ', urban_sounds_data['class'].unique()) \n",
        "print(\"\")\n",
        "print(\"\")\n",
        "print(urban_sounds_data.head())\n",
        "print(\"\")\n",
        "print(\"\")"
      ],
      "metadata": {
        "id": "VyhObb4NHASY",
        "colab": {
          "base_uri": "https://localhost:8080/"
        },
        "outputId": "141d174c-b1e9-41b9-fe75-b0fadb1807c4"
      },
      "execution_count": null,
      "outputs": [
        {
          "output_type": "stream",
          "name": "stdout",
          "text": [
            "Predicted Class: 8\n",
            "Prediction Probability: 0.14524394\n",
            "predictionResult: [[0.11817079 0.10064445 0.0482134  0.11930909 0.06428543 0.10281133\n",
            "  0.12952076 0.05433861 0.14524394 0.11746215]]\n",
            "predictions shape: (1, 10)\n",
            "\n",
            "\n",
            "expected  : This image belongs to the class 3 , dog_bark\n",
            "\n",
            "\n",
            "predicted : This image belongs to the class 8 with 0.14524394273757935 probability\n",
            "\n",
            "\n",
            "urban_sounds_data - classID :  [3 2 1 0 9 6 8 5 7 4]\n",
            "\n",
            "\n",
            "urban_sounds_data - class :  ['dog_bark' 'children_playing' 'car_horn' 'air_conditioner' 'street_music'\n",
            " 'gun_shot' 'siren' 'engine_idling' 'jackhammer' 'drilling']\n",
            "\n",
            "\n",
            "      slice_file_name  classID             class\n",
            "0    100032-3-0-0.png        3          dog_bark\n",
            "1  100263-2-0-117.png        2  children_playing\n",
            "2  100263-2-0-121.png        2  children_playing\n",
            "3  100263-2-0-126.png        2  children_playing\n",
            "4  100263-2-0-137.png        2  children_playing\n",
            "\n",
            "\n"
          ]
        }
      ]
    },
    {
      "cell_type": "code",
      "execution_count": null,
      "metadata": {
        "id": "UEU0en4Xp5yF"
      },
      "outputs": [],
      "source": [
        "# drive.flush_and_unmount()\n",
        "# print('All changes made in this colab session should now be visible in Drive.')"
      ]
    }
  ],
  "metadata": {
    "colab": {
      "collapsed_sections": [],
      "provenance": []
    },
    "kernelspec": {
      "display_name": "Python 3",
      "name": "python3"
    },
    "language_info": {
      "name": "python"
    },
    "accelerator": "GPU"
  },
  "nbformat": 4,
  "nbformat_minor": 0
}